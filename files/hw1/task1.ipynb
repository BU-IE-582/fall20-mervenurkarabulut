{
 "cells": [
  {
   "cell_type": "markdown",
   "metadata": {},
   "source": [
    "# TASK 1"
   ]
  },
  {
   "cell_type": "code",
   "execution_count": 192,
   "metadata": {
    "slideshow": {
     "slide_type": "fragment"
    },
    "tags": [
     "Packages"
    ]
   },
   "outputs": [],
   "source": [
    "import pandas as pd\n",
    "import numpy as np\n",
    "import matplotlib.pyplot as plt"
   ]
  },
  {
   "cell_type": "markdown",
   "metadata": {},
   "source": [
    "## Data from Premier League\n",
    "Seasons including 2018/2019, 2019/2020 and 2020/2021"
   ]
  },
  {
   "cell_type": "code",
   "execution_count": 219,
   "metadata": {},
   "outputs": [
    {
     "data": {
      "text/html": [
       "<div>\n",
       "<style scoped>\n",
       "    .dataframe tbody tr th:only-of-type {\n",
       "        vertical-align: middle;\n",
       "    }\n",
       "\n",
       "    .dataframe tbody tr th {\n",
       "        vertical-align: top;\n",
       "    }\n",
       "\n",
       "    .dataframe thead th {\n",
       "        text-align: right;\n",
       "    }\n",
       "</style>\n",
       "<table border=\"1\" class=\"dataframe\">\n",
       "  <thead>\n",
       "    <tr style=\"text-align: right;\">\n",
       "      <th></th>\n",
       "      <th>Div</th>\n",
       "      <th>Date</th>\n",
       "      <th>Time</th>\n",
       "      <th>HomeTeam</th>\n",
       "      <th>AwayTeam</th>\n",
       "      <th>FTHG</th>\n",
       "      <th>FTAG</th>\n",
       "      <th>FTR</th>\n",
       "      <th>HTHG</th>\n",
       "      <th>HTAG</th>\n",
       "      <th>...</th>\n",
       "      <th>AvgD</th>\n",
       "      <th>AvgA</th>\n",
       "      <th>B365&gt;2.5</th>\n",
       "      <th>B365&lt;2.5</th>\n",
       "      <th>P&gt;2.5</th>\n",
       "      <th>P&lt;2.5</th>\n",
       "      <th>Max&gt;2.5</th>\n",
       "      <th>Max&lt;2.5</th>\n",
       "      <th>Avg&gt;2.5</th>\n",
       "      <th>Avg&lt;2.5</th>\n",
       "    </tr>\n",
       "  </thead>\n",
       "  <tbody>\n",
       "    <tr>\n",
       "      <th>0</th>\n",
       "      <td>E0</td>\n",
       "      <td>12/09/2020</td>\n",
       "      <td>12:30</td>\n",
       "      <td>Fulham</td>\n",
       "      <td>Arsenal</td>\n",
       "      <td>0</td>\n",
       "      <td>3</td>\n",
       "      <td>A</td>\n",
       "      <td>0</td>\n",
       "      <td>1</td>\n",
       "      <td>...</td>\n",
       "      <td>4.34</td>\n",
       "      <td>1.55</td>\n",
       "      <td>1.72</td>\n",
       "      <td>2.10</td>\n",
       "      <td>1.80</td>\n",
       "      <td>2.13</td>\n",
       "      <td>1.84</td>\n",
       "      <td>2.18</td>\n",
       "      <td>1.76</td>\n",
       "      <td>2.10</td>\n",
       "    </tr>\n",
       "    <tr>\n",
       "      <th>1</th>\n",
       "      <td>E0</td>\n",
       "      <td>12/09/2020</td>\n",
       "      <td>15:00</td>\n",
       "      <td>Crystal Palace</td>\n",
       "      <td>Southampton</td>\n",
       "      <td>1</td>\n",
       "      <td>0</td>\n",
       "      <td>H</td>\n",
       "      <td>1</td>\n",
       "      <td>0</td>\n",
       "      <td>...</td>\n",
       "      <td>3.22</td>\n",
       "      <td>2.39</td>\n",
       "      <td>2.20</td>\n",
       "      <td>1.66</td>\n",
       "      <td>2.34</td>\n",
       "      <td>1.68</td>\n",
       "      <td>2.36</td>\n",
       "      <td>1.73</td>\n",
       "      <td>2.24</td>\n",
       "      <td>1.67</td>\n",
       "    </tr>\n",
       "    <tr>\n",
       "      <th>2</th>\n",
       "      <td>E0</td>\n",
       "      <td>12/09/2020</td>\n",
       "      <td>17:30</td>\n",
       "      <td>Liverpool</td>\n",
       "      <td>Leeds</td>\n",
       "      <td>4</td>\n",
       "      <td>3</td>\n",
       "      <td>H</td>\n",
       "      <td>3</td>\n",
       "      <td>2</td>\n",
       "      <td>...</td>\n",
       "      <td>5.96</td>\n",
       "      <td>9.68</td>\n",
       "      <td>1.53</td>\n",
       "      <td>2.50</td>\n",
       "      <td>1.56</td>\n",
       "      <td>2.60</td>\n",
       "      <td>1.56</td>\n",
       "      <td>2.68</td>\n",
       "      <td>1.52</td>\n",
       "      <td>2.53</td>\n",
       "    </tr>\n",
       "    <tr>\n",
       "      <th>3</th>\n",
       "      <td>E0</td>\n",
       "      <td>12/09/2020</td>\n",
       "      <td>20:00</td>\n",
       "      <td>West Ham</td>\n",
       "      <td>Newcastle</td>\n",
       "      <td>0</td>\n",
       "      <td>2</td>\n",
       "      <td>A</td>\n",
       "      <td>0</td>\n",
       "      <td>0</td>\n",
       "      <td>...</td>\n",
       "      <td>3.48</td>\n",
       "      <td>3.42</td>\n",
       "      <td>1.90</td>\n",
       "      <td>1.90</td>\n",
       "      <td>2.00</td>\n",
       "      <td>1.91</td>\n",
       "      <td>2.05</td>\n",
       "      <td>1.95</td>\n",
       "      <td>1.97</td>\n",
       "      <td>1.86</td>\n",
       "    </tr>\n",
       "    <tr>\n",
       "      <th>4</th>\n",
       "      <td>E0</td>\n",
       "      <td>13/09/2020</td>\n",
       "      <td>14:00</td>\n",
       "      <td>West Brom</td>\n",
       "      <td>Leicester</td>\n",
       "      <td>0</td>\n",
       "      <td>3</td>\n",
       "      <td>A</td>\n",
       "      <td>0</td>\n",
       "      <td>0</td>\n",
       "      <td>...</td>\n",
       "      <td>3.57</td>\n",
       "      <td>1.97</td>\n",
       "      <td>1.90</td>\n",
       "      <td>1.90</td>\n",
       "      <td>2.00</td>\n",
       "      <td>1.91</td>\n",
       "      <td>2.02</td>\n",
       "      <td>2.03</td>\n",
       "      <td>1.92</td>\n",
       "      <td>1.90</td>\n",
       "    </tr>\n",
       "    <tr>\n",
       "      <th>...</th>\n",
       "      <td>...</td>\n",
       "      <td>...</td>\n",
       "      <td>...</td>\n",
       "      <td>...</td>\n",
       "      <td>...</td>\n",
       "      <td>...</td>\n",
       "      <td>...</td>\n",
       "      <td>...</td>\n",
       "      <td>...</td>\n",
       "      <td>...</td>\n",
       "      <td>...</td>\n",
       "      <td>...</td>\n",
       "      <td>...</td>\n",
       "      <td>...</td>\n",
       "      <td>...</td>\n",
       "      <td>...</td>\n",
       "      <td>...</td>\n",
       "      <td>...</td>\n",
       "      <td>...</td>\n",
       "      <td>...</td>\n",
       "      <td>...</td>\n",
       "    </tr>\n",
       "    <tr>\n",
       "      <th>823</th>\n",
       "      <td>E0</td>\n",
       "      <td>12/05/2019</td>\n",
       "      <td>NaN</td>\n",
       "      <td>Liverpool</td>\n",
       "      <td>Wolves</td>\n",
       "      <td>2</td>\n",
       "      <td>0</td>\n",
       "      <td>H</td>\n",
       "      <td>1</td>\n",
       "      <td>0</td>\n",
       "      <td>...</td>\n",
       "      <td>NaN</td>\n",
       "      <td>NaN</td>\n",
       "      <td>NaN</td>\n",
       "      <td>NaN</td>\n",
       "      <td>NaN</td>\n",
       "      <td>NaN</td>\n",
       "      <td>NaN</td>\n",
       "      <td>NaN</td>\n",
       "      <td>NaN</td>\n",
       "      <td>NaN</td>\n",
       "    </tr>\n",
       "    <tr>\n",
       "      <th>824</th>\n",
       "      <td>E0</td>\n",
       "      <td>12/05/2019</td>\n",
       "      <td>NaN</td>\n",
       "      <td>Man United</td>\n",
       "      <td>Cardiff</td>\n",
       "      <td>0</td>\n",
       "      <td>2</td>\n",
       "      <td>A</td>\n",
       "      <td>0</td>\n",
       "      <td>1</td>\n",
       "      <td>...</td>\n",
       "      <td>NaN</td>\n",
       "      <td>NaN</td>\n",
       "      <td>NaN</td>\n",
       "      <td>NaN</td>\n",
       "      <td>NaN</td>\n",
       "      <td>NaN</td>\n",
       "      <td>NaN</td>\n",
       "      <td>NaN</td>\n",
       "      <td>NaN</td>\n",
       "      <td>NaN</td>\n",
       "    </tr>\n",
       "    <tr>\n",
       "      <th>825</th>\n",
       "      <td>E0</td>\n",
       "      <td>12/05/2019</td>\n",
       "      <td>NaN</td>\n",
       "      <td>Southampton</td>\n",
       "      <td>Huddersfield</td>\n",
       "      <td>1</td>\n",
       "      <td>1</td>\n",
       "      <td>D</td>\n",
       "      <td>1</td>\n",
       "      <td>0</td>\n",
       "      <td>...</td>\n",
       "      <td>NaN</td>\n",
       "      <td>NaN</td>\n",
       "      <td>NaN</td>\n",
       "      <td>NaN</td>\n",
       "      <td>NaN</td>\n",
       "      <td>NaN</td>\n",
       "      <td>NaN</td>\n",
       "      <td>NaN</td>\n",
       "      <td>NaN</td>\n",
       "      <td>NaN</td>\n",
       "    </tr>\n",
       "    <tr>\n",
       "      <th>826</th>\n",
       "      <td>E0</td>\n",
       "      <td>12/05/2019</td>\n",
       "      <td>NaN</td>\n",
       "      <td>Tottenham</td>\n",
       "      <td>Everton</td>\n",
       "      <td>2</td>\n",
       "      <td>2</td>\n",
       "      <td>D</td>\n",
       "      <td>1</td>\n",
       "      <td>0</td>\n",
       "      <td>...</td>\n",
       "      <td>NaN</td>\n",
       "      <td>NaN</td>\n",
       "      <td>NaN</td>\n",
       "      <td>NaN</td>\n",
       "      <td>NaN</td>\n",
       "      <td>NaN</td>\n",
       "      <td>NaN</td>\n",
       "      <td>NaN</td>\n",
       "      <td>NaN</td>\n",
       "      <td>NaN</td>\n",
       "    </tr>\n",
       "    <tr>\n",
       "      <th>827</th>\n",
       "      <td>E0</td>\n",
       "      <td>12/05/2019</td>\n",
       "      <td>NaN</td>\n",
       "      <td>Watford</td>\n",
       "      <td>West Ham</td>\n",
       "      <td>1</td>\n",
       "      <td>4</td>\n",
       "      <td>A</td>\n",
       "      <td>0</td>\n",
       "      <td>2</td>\n",
       "      <td>...</td>\n",
       "      <td>NaN</td>\n",
       "      <td>NaN</td>\n",
       "      <td>NaN</td>\n",
       "      <td>NaN</td>\n",
       "      <td>NaN</td>\n",
       "      <td>NaN</td>\n",
       "      <td>NaN</td>\n",
       "      <td>NaN</td>\n",
       "      <td>NaN</td>\n",
       "      <td>NaN</td>\n",
       "    </tr>\n",
       "  </tbody>\n",
       "</table>\n",
       "<p>828 rows × 56 columns</p>\n",
       "</div>"
      ],
      "text/plain": [
       "    Div        Date   Time        HomeTeam      AwayTeam  FTHG  FTAG FTR  \\\n",
       "0    E0  12/09/2020  12:30          Fulham       Arsenal     0     3   A   \n",
       "1    E0  12/09/2020  15:00  Crystal Palace   Southampton     1     0   H   \n",
       "2    E0  12/09/2020  17:30       Liverpool         Leeds     4     3   H   \n",
       "3    E0  12/09/2020  20:00        West Ham     Newcastle     0     2   A   \n",
       "4    E0  13/09/2020  14:00       West Brom     Leicester     0     3   A   \n",
       "..   ..         ...    ...             ...           ...   ...   ...  ..   \n",
       "823  E0  12/05/2019    NaN       Liverpool        Wolves     2     0   H   \n",
       "824  E0  12/05/2019    NaN      Man United       Cardiff     0     2   A   \n",
       "825  E0  12/05/2019    NaN     Southampton  Huddersfield     1     1   D   \n",
       "826  E0  12/05/2019    NaN       Tottenham       Everton     2     2   D   \n",
       "827  E0  12/05/2019    NaN         Watford      West Ham     1     4   A   \n",
       "\n",
       "     HTHG  HTAG  ...  AvgD  AvgA  B365>2.5  B365<2.5  P>2.5  P<2.5  Max>2.5  \\\n",
       "0       0     1  ...  4.34  1.55      1.72      2.10   1.80   2.13     1.84   \n",
       "1       1     0  ...  3.22  2.39      2.20      1.66   2.34   1.68     2.36   \n",
       "2       3     2  ...  5.96  9.68      1.53      2.50   1.56   2.60     1.56   \n",
       "3       0     0  ...  3.48  3.42      1.90      1.90   2.00   1.91     2.05   \n",
       "4       0     0  ...  3.57  1.97      1.90      1.90   2.00   1.91     2.02   \n",
       "..    ...   ...  ...   ...   ...       ...       ...    ...    ...      ...   \n",
       "823     1     0  ...   NaN   NaN       NaN       NaN    NaN    NaN      NaN   \n",
       "824     0     1  ...   NaN   NaN       NaN       NaN    NaN    NaN      NaN   \n",
       "825     1     0  ...   NaN   NaN       NaN       NaN    NaN    NaN      NaN   \n",
       "826     1     0  ...   NaN   NaN       NaN       NaN    NaN    NaN      NaN   \n",
       "827     0     2  ...   NaN   NaN       NaN       NaN    NaN    NaN      NaN   \n",
       "\n",
       "     Max<2.5  Avg>2.5  Avg<2.5  \n",
       "0       2.18     1.76     2.10  \n",
       "1       1.73     2.24     1.67  \n",
       "2       2.68     1.52     2.53  \n",
       "3       1.95     1.97     1.86  \n",
       "4       2.03     1.92     1.90  \n",
       "..       ...      ...      ...  \n",
       "823      NaN      NaN      NaN  \n",
       "824      NaN      NaN      NaN  \n",
       "825      NaN      NaN      NaN  \n",
       "826      NaN      NaN      NaN  \n",
       "827      NaN      NaN      NaN  \n",
       "\n",
       "[828 rows x 56 columns]"
      ]
     },
     "execution_count": 219,
     "metadata": {},
     "output_type": "execute_result"
    }
   ],
   "source": [
    "data_2021 = pd.read_csv(\"C:/IE582/data/E0.csv\")\n",
    "data_1920 = pd.read_csv(\"C:/IE582/data/E1.csv\")\n",
    "data_1819 = pd.read_csv(\"C:/IE582/data/E2.csv\")\n",
    "match_data = pd.concat([data_2021, data_1920, data_1819], ignore_index=True)\n",
    "match_data.drop(match_data.columns[56:], axis=1, inplace=True)\n",
    "match_data"
   ]
  },
  {
   "cell_type": "markdown",
   "metadata": {},
   "source": [
    "## Question 1"
   ]
  },
  {
   "cell_type": "code",
   "execution_count": 220,
   "metadata": {},
   "outputs": [
    {
     "data": {
      "image/png": "[encoded data removed]",
      "text/plain": [
       "<Figure size 432x288 with 1 Axes>"
      ]
     },
     "metadata": {
      "needs_background": "light"
     },
     "output_type": "display_data"
    }
   ],
   "source": [
    "plt.hist(match_data[\"FTHG\"])\n",
    "plt.xlabel(\"Home Goals\")\n",
    "plt.ylabel(\"Number of Games\")\n",
    "plt.title(\"Home Score\")\n",
    "plt.show()"
   ]
  },
  {
   "cell_type": "code",
   "execution_count": 221,
   "metadata": {},
   "outputs": [
    {
     "data": {
      "image/png": "[encoded data removed]",
      "text/plain": [
       "<Figure size 432x288 with 1 Axes>"
      ]
     },
     "metadata": {
      "needs_background": "light"
     },
     "output_type": "display_data"
    }
   ],
   "source": [
    "plt.hist(match_data[\"FTAG\"],color=\"#009E73\")\n",
    "plt.xlabel(\"Away Goals\")\n",
    "plt.ylabel(\"Number of Games\")\n",
    "plt.title(\"Away Score\")\n",
    "plt.show()"
   ]
  },
  {
   "cell_type": "code",
   "execution_count": 222,
   "metadata": {},
   "outputs": [
    {
     "data": {
      "image/png": "[encoded data removed]",
      "text/plain": [
       "<Figure size 432x288 with 1 Axes>"
      ]
     },
     "metadata": {
      "needs_background": "light"
     },
     "output_type": "display_data"
    }
   ],
   "source": [
    "match_data[\"FTHG\"]-match_data[\"FTAG\"]\n",
    "plt.hist(match_data[\"FTHG\"]-match_data[\"FTAG\"],color=\"black\")\n",
    "plt.xlabel(\"Home goals – Away Goals\")\n",
    "plt.ylabel(\"Number of Games\")\n",
    "plt.title(\"Score Difference\")\n",
    "plt.show()"
   ]
  },
  {
   "cell_type": "markdown",
   "metadata": {},
   "source": [
    "##  Question 2"
   ]
  },
  {
   "cell_type": "code",
   "execution_count": 223,
   "metadata": {},
   "outputs": [
    {
     "data": {
      "text/plain": [
       "(1.53743961352657, 1.2729468599033817)"
      ]
     },
     "execution_count": 223,
     "metadata": {},
     "output_type": "execute_result"
    }
   ],
   "source": [
    "import statistics as st\n",
    "\n",
    "home_mean = st.mean(match_data[\"FTHG\"])\n",
    "away_mean = st.mean(match_data[\"FTAG\"])\n",
    "home_mean, away_mean"
   ]
  },
  {
   "cell_type": "code",
   "execution_count": 224,
   "metadata": {},
   "outputs": [
    {
     "data": {
      "image/png": "[encoded data removed]",
      "text/plain": [
       "<Figure size 432x288 with 1 Axes>"
      ]
     },
     "metadata": {
      "needs_background": "light"
     },
     "output_type": "display_data"
    }
   ],
   "source": [
    "plt.hist(match_data[\"FTHG\"],density=True,label=\"Data\")\n",
    "plt.xlabel(\"Home Goals\")\n",
    "plt.ylabel(\"Probability\")\n",
    "plt.title(\"Home Score\")\n",
    "mn, mx = plt.xlim()\n",
    "probs = []\n",
    "for score in np.arange(mn,mx+1):\n",
    "    probs.append(poisson.pmf(score,home_mean))\n",
    "plt.plot(probs, label=\"Poisson PMF\")\n",
    "plt.legend(loc=\"upper right\")\n",
    "plt.show()"
   ]
  },
  {
   "cell_type": "markdown",
   "metadata": {},
   "source": [
    "This graph shows that **Home Goals** data distribution looks like *Poisson* distribution with $ \\lambda = 1.537 $ . "
   ]
  },
  {
   "cell_type": "code",
   "execution_count": 225,
   "metadata": {},
   "outputs": [
    {
     "data": {
      "image/png": "[encoded data removed]",
      "text/plain": [
       "<Figure size 432x288 with 1 Axes>"
      ]
     },
     "metadata": {
      "needs_background": "light"
     },
     "output_type": "display_data"
    }
   ],
   "source": [
    "plt.hist(match_data[\"FTAG\"],density=True,label=\"Data\",color=\"#009E73\")\n",
    "plt.xlabel(\"Away Goals\")\n",
    "plt.ylabel(\"Probability\")\n",
    "plt.title(\"Away Score\")\n",
    "mn, mx = plt.xlim()\n",
    "probs = []\n",
    "for score in np.arange(mn,mx+1):\n",
    "    probs.append(poisson.pmf(score,away_mean))\n",
    "plt.plot(probs, label=\"Poisson PMF\")\n",
    "plt.legend(loc=\"upper right\")\n",
    "plt.show()"
   ]
  },
  {
   "cell_type": "markdown",
   "metadata": {},
   "source": [
    "This graph shows that **Away Goals** data distribution looks like *Poisson* distribution with $ \\lambda = 1.273 $ ."
   ]
  }
 ],
 "metadata": {
  "jupytext": {
   "formats": "ipynb,md"
  },
  "kernelspec": {
   "display_name": "Python 3",
   "language": "python",
   "name": "python3"
  },
  "language_info": {
   "codemirror_mode": {
    "name": "ipython",
    "version": 3
   },
   "file_extension": ".py",
   "mimetype": "text/x-python",
   "name": "python",
   "nbconvert_exporter": "python",
   "pygments_lexer": "ipython3",
   "version": "3.8.3"
  }
 },
 "nbformat": 4,
 "nbformat_minor": 4
}
