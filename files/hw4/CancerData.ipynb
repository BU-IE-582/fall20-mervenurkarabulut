{
 "cells": [
  {
   "cell_type": "markdown",
   "metadata": {},
   "source": [
    "# <ins>Breast Cancer Wisconsin (Diagnostic) Data Set</ins>\n",
    "\n",
    "**Data Set Characteristics:**\n",
    "\n",
    "Multivariate | Number of Instances: 569 | Area: Life | Attribute Characteristics: Real |\n",
    "Number of Attributes: 32 | Date Donated: 1995-11-01 | \n",
    "Associated Tasks: Classification | Missing Values: No \n",
    "\n",
    "**Data Set Information:** Features are computed from a digitized image of a fine needle aspirate (FNA) of a breast mass. They describe characteristics of the cell nuclei present in the image.\n",
    "\n",
    "**Attribute Information:**\n",
    "\n",
    "1) ID number\n",
    "\n",
    "2) Diagnosis (M = malignant, B = benign)\n",
    "\n",
    "3-32) Ten real-valued features are computed for each cell nucleus:\n",
    "   \n",
    "    a) radius (mean of distances from center to points on the perimeter)\n",
    "    b) texture (standard deviation of gray-scale values)\n",
    "    c) perimeter\n",
    "    d) area\n",
    "    e) smoothness (local variation in radius lengths)\n",
    "    f) compactness (perimeter^2 / area - 1.0)\n",
    "    g) concavity (severity of concave portions of the contour)\n",
    "    h) concave points (number of concave portions of the contour)\n",
    "    i) symmetry\n",
    "    j) fractal dimension (\"coastline approximation\" - 1)"
   ]
  },
  {
   "cell_type": "code",
   "execution_count": 1,
   "metadata": {},
   "outputs": [
    {
     "data": {
      "text/html": [
       "<table>\n",
       "<thead><tr><th scope=col>V1</th><th scope=col>V2</th><th scope=col>V3</th><th scope=col>V4</th><th scope=col>V5</th><th scope=col>V6</th><th scope=col>V7</th><th scope=col>V8</th><th scope=col>V9</th><th scope=col>V10</th><th scope=col>...</th><th scope=col>V23</th><th scope=col>V24</th><th scope=col>V25</th><th scope=col>V26</th><th scope=col>V27</th><th scope=col>V28</th><th scope=col>V29</th><th scope=col>V30</th><th scope=col>V31</th><th scope=col>V32</th></tr></thead>\n",
       "<tbody>\n",
       "\t<tr><td>  842302</td><td>M       </td><td>17.99   </td><td>10.38   </td><td>122.80  </td><td>1001.0  </td><td>0.11840 </td><td>0.27760 </td><td>0.3001  </td><td>0.14710 </td><td>...     </td><td>25.38   </td><td>17.33   </td><td>184.60  </td><td>2019.0  </td><td>0.1622  </td><td>0.6656  </td><td>0.7119  </td><td>0.2654  </td><td>0.4601  </td><td>0.11890 </td></tr>\n",
       "\t<tr><td>  842517</td><td>M       </td><td>20.57   </td><td>17.77   </td><td>132.90  </td><td>1326.0  </td><td>0.08474 </td><td>0.07864 </td><td>0.0869  </td><td>0.07017 </td><td>...     </td><td>24.99   </td><td>23.41   </td><td>158.80  </td><td>1956.0  </td><td>0.1238  </td><td>0.1866  </td><td>0.2416  </td><td>0.1860  </td><td>0.2750  </td><td>0.08902 </td></tr>\n",
       "\t<tr><td>84300903</td><td>M       </td><td>19.69   </td><td>21.25   </td><td>130.00  </td><td>1203.0  </td><td>0.10960 </td><td>0.15990 </td><td>0.1974  </td><td>0.12790 </td><td>...     </td><td>23.57   </td><td>25.53   </td><td>152.50  </td><td>1709.0  </td><td>0.1444  </td><td>0.4245  </td><td>0.4504  </td><td>0.2430  </td><td>0.3613  </td><td>0.08758 </td></tr>\n",
       "\t<tr><td>84348301</td><td>M       </td><td>11.42   </td><td>20.38   </td><td> 77.58  </td><td> 386.1  </td><td>0.14250 </td><td>0.28390 </td><td>0.2414  </td><td>0.10520 </td><td>...     </td><td>14.91   </td><td>26.50   </td><td> 98.87  </td><td> 567.7  </td><td>0.2098  </td><td>0.8663  </td><td>0.6869  </td><td>0.2575  </td><td>0.6638  </td><td>0.17300 </td></tr>\n",
       "\t<tr><td>84358402</td><td>M       </td><td>20.29   </td><td>14.34   </td><td>135.10  </td><td>1297.0  </td><td>0.10030 </td><td>0.13280 </td><td>0.1980  </td><td>0.10430 </td><td>...     </td><td>22.54   </td><td>16.67   </td><td>152.20  </td><td>1575.0  </td><td>0.1374  </td><td>0.2050  </td><td>0.4000  </td><td>0.1625  </td><td>0.2364  </td><td>0.07678 </td></tr>\n",
       "\t<tr><td>  843786</td><td>M       </td><td>12.45   </td><td>15.70   </td><td> 82.57  </td><td> 477.1  </td><td>0.12780 </td><td>0.17000 </td><td>0.1578  </td><td>0.08089 </td><td>...     </td><td>15.47   </td><td>23.75   </td><td>103.40  </td><td> 741.6  </td><td>0.1791  </td><td>0.5249  </td><td>0.5355  </td><td>0.1741  </td><td>0.3985  </td><td>0.12440 </td></tr>\n",
       "</tbody>\n",
       "</table>\n"
      ],
      "text/latex": [
       "\\begin{tabular}{r|llllllllllllllllllllllllllllllll}\n",
       " V1 & V2 & V3 & V4 & V5 & V6 & V7 & V8 & V9 & V10 & ... & V23 & V24 & V25 & V26 & V27 & V28 & V29 & V30 & V31 & V32\\\\\n",
       "\\hline\n",
       "\t   842302 & M        & 17.99    & 10.38    & 122.80   & 1001.0   & 0.11840  & 0.27760  & 0.3001   & 0.14710  & ...      & 25.38    & 17.33    & 184.60   & 2019.0   & 0.1622   & 0.6656   & 0.7119   & 0.2654   & 0.4601   & 0.11890 \\\\\n",
       "\t   842517 & M        & 20.57    & 17.77    & 132.90   & 1326.0   & 0.08474  & 0.07864  & 0.0869   & 0.07017  & ...      & 24.99    & 23.41    & 158.80   & 1956.0   & 0.1238   & 0.1866   & 0.2416   & 0.1860   & 0.2750   & 0.08902 \\\\\n",
       "\t 84300903 & M        & 19.69    & 21.25    & 130.00   & 1203.0   & 0.10960  & 0.15990  & 0.1974   & 0.12790  & ...      & 23.57    & 25.53    & 152.50   & 1709.0   & 0.1444   & 0.4245   & 0.4504   & 0.2430   & 0.3613   & 0.08758 \\\\\n",
       "\t 84348301 & M        & 11.42    & 20.38    &  77.58   &  386.1   & 0.14250  & 0.28390  & 0.2414   & 0.10520  & ...      & 14.91    & 26.50    &  98.87   &  567.7   & 0.2098   & 0.8663   & 0.6869   & 0.2575   & 0.6638   & 0.17300 \\\\\n",
       "\t 84358402 & M        & 20.29    & 14.34    & 135.10   & 1297.0   & 0.10030  & 0.13280  & 0.1980   & 0.10430  & ...      & 22.54    & 16.67    & 152.20   & 1575.0   & 0.1374   & 0.2050   & 0.4000   & 0.1625   & 0.2364   & 0.07678 \\\\\n",
       "\t   843786 & M        & 12.45    & 15.70    &  82.57   &  477.1   & 0.12780  & 0.17000  & 0.1578   & 0.08089  & ...      & 15.47    & 23.75    & 103.40   &  741.6   & 0.1791   & 0.5249   & 0.5355   & 0.1741   & 0.3985   & 0.12440 \\\\\n",
       "\\end{tabular}\n"
      ],
      "text/markdown": [
       "\n",
       "| V1 | V2 | V3 | V4 | V5 | V6 | V7 | V8 | V9 | V10 | ... | V23 | V24 | V25 | V26 | V27 | V28 | V29 | V30 | V31 | V32 |\n",
       "|---|---|---|---|---|---|---|---|---|---|---|---|---|---|---|---|---|---|---|---|---|\n",
       "|   842302 | M        | 17.99    | 10.38    | 122.80   | 1001.0   | 0.11840  | 0.27760  | 0.3001   | 0.14710  | ...      | 25.38    | 17.33    | 184.60   | 2019.0   | 0.1622   | 0.6656   | 0.7119   | 0.2654   | 0.4601   | 0.11890  |\n",
       "|   842517 | M        | 20.57    | 17.77    | 132.90   | 1326.0   | 0.08474  | 0.07864  | 0.0869   | 0.07017  | ...      | 24.99    | 23.41    | 158.80   | 1956.0   | 0.1238   | 0.1866   | 0.2416   | 0.1860   | 0.2750   | 0.08902  |\n",
       "| 84300903 | M        | 19.69    | 21.25    | 130.00   | 1203.0   | 0.10960  | 0.15990  | 0.1974   | 0.12790  | ...      | 23.57    | 25.53    | 152.50   | 1709.0   | 0.1444   | 0.4245   | 0.4504   | 0.2430   | 0.3613   | 0.08758  |\n",
       "| 84348301 | M        | 11.42    | 20.38    |  77.58   |  386.1   | 0.14250  | 0.28390  | 0.2414   | 0.10520  | ...      | 14.91    | 26.50    |  98.87   |  567.7   | 0.2098   | 0.8663   | 0.6869   | 0.2575   | 0.6638   | 0.17300  |\n",
       "| 84358402 | M        | 20.29    | 14.34    | 135.10   | 1297.0   | 0.10030  | 0.13280  | 0.1980   | 0.10430  | ...      | 22.54    | 16.67    | 152.20   | 1575.0   | 0.1374   | 0.2050   | 0.4000   | 0.1625   | 0.2364   | 0.07678  |\n",
       "|   843786 | M        | 12.45    | 15.70    |  82.57   |  477.1   | 0.12780  | 0.17000  | 0.1578   | 0.08089  | ...      | 15.47    | 23.75    | 103.40   |  741.6   | 0.1791   | 0.5249   | 0.5355   | 0.1741   | 0.3985   | 0.12440  |\n",
       "\n"
      ],
      "text/plain": [
       "  V1       V2 V3    V4    V5     V6     V7      V8      V9     V10     ...\n",
       "1   842302 M  17.99 10.38 122.80 1001.0 0.11840 0.27760 0.3001 0.14710 ...\n",
       "2   842517 M  20.57 17.77 132.90 1326.0 0.08474 0.07864 0.0869 0.07017 ...\n",
       "3 84300903 M  19.69 21.25 130.00 1203.0 0.10960 0.15990 0.1974 0.12790 ...\n",
       "4 84348301 M  11.42 20.38  77.58  386.1 0.14250 0.28390 0.2414 0.10520 ...\n",
       "5 84358402 M  20.29 14.34 135.10 1297.0 0.10030 0.13280 0.1980 0.10430 ...\n",
       "6   843786 M  12.45 15.70  82.57  477.1 0.12780 0.17000 0.1578 0.08089 ...\n",
       "  V23   V24   V25    V26    V27    V28    V29    V30    V31    V32    \n",
       "1 25.38 17.33 184.60 2019.0 0.1622 0.6656 0.7119 0.2654 0.4601 0.11890\n",
       "2 24.99 23.41 158.80 1956.0 0.1238 0.1866 0.2416 0.1860 0.2750 0.08902\n",
       "3 23.57 25.53 152.50 1709.0 0.1444 0.4245 0.4504 0.2430 0.3613 0.08758\n",
       "4 14.91 26.50  98.87  567.7 0.2098 0.8663 0.6869 0.2575 0.6638 0.17300\n",
       "5 22.54 16.67 152.20 1575.0 0.1374 0.2050 0.4000 0.1625 0.2364 0.07678\n",
       "6 15.47 23.75 103.40  741.6 0.1791 0.5249 0.5355 0.1741 0.3985 0.12440"
      ]
     },
     "metadata": {},
     "output_type": "display_data"
    },
    {
     "name": "stdout",
     "output_type": "stream",
     "text": [
      "'data.frame':\t569 obs. of  32 variables:\n",
      " $ V1 : int  842302 842517 84300903 84348301 84358402 843786 844359 84458202 844981 84501001 ...\n",
      " $ V2 : Factor w/ 2 levels \"B\",\"M\": 2 2 2 2 2 2 2 2 2 2 ...\n",
      " $ V3 : num  18 20.6 19.7 11.4 20.3 ...\n",
      " $ V4 : num  10.4 17.8 21.2 20.4 14.3 ...\n",
      " $ V5 : num  122.8 132.9 130 77.6 135.1 ...\n",
      " $ V6 : num  1001 1326 1203 386 1297 ...\n",
      " $ V7 : num  0.1184 0.0847 0.1096 0.1425 0.1003 ...\n",
      " $ V8 : num  0.2776 0.0786 0.1599 0.2839 0.1328 ...\n",
      " $ V9 : num  0.3001 0.0869 0.1974 0.2414 0.198 ...\n",
      " $ V10: num  0.1471 0.0702 0.1279 0.1052 0.1043 ...\n",
      " $ V11: num  0.242 0.181 0.207 0.26 0.181 ...\n",
      " $ V12: num  0.0787 0.0567 0.06 0.0974 0.0588 ...\n",
      " $ V13: num  1.095 0.543 0.746 0.496 0.757 ...\n",
      " $ V14: num  0.905 0.734 0.787 1.156 0.781 ...\n",
      " $ V15: num  8.59 3.4 4.58 3.44 5.44 ...\n",
      " $ V16: num  153.4 74.1 94 27.2 94.4 ...\n",
      " $ V17: num  0.0064 0.00522 0.00615 0.00911 0.01149 ...\n",
      " $ V18: num  0.049 0.0131 0.0401 0.0746 0.0246 ...\n",
      " $ V19: num  0.0537 0.0186 0.0383 0.0566 0.0569 ...\n",
      " $ V20: num  0.0159 0.0134 0.0206 0.0187 0.0188 ...\n",
      " $ V21: num  0.03 0.0139 0.0225 0.0596 0.0176 ...\n",
      " $ V22: num  0.00619 0.00353 0.00457 0.00921 0.00511 ...\n",
      " $ V23: num  25.4 25 23.6 14.9 22.5 ...\n",
      " $ V24: num  17.3 23.4 25.5 26.5 16.7 ...\n",
      " $ V25: num  184.6 158.8 152.5 98.9 152.2 ...\n",
      " $ V26: num  2019 1956 1709 568 1575 ...\n",
      " $ V27: num  0.162 0.124 0.144 0.21 0.137 ...\n",
      " $ V28: num  0.666 0.187 0.424 0.866 0.205 ...\n",
      " $ V29: num  0.712 0.242 0.45 0.687 0.4 ...\n",
      " $ V30: num  0.265 0.186 0.243 0.258 0.163 ...\n",
      " $ V31: num  0.46 0.275 0.361 0.664 0.236 ...\n",
      " $ V32: num  0.1189 0.089 0.0876 0.173 0.0768 ...\n"
     ]
    }
   ],
   "source": [
    "# input reading\n",
    "setwd(\"C:/IE582\")\n",
    "Dataset_1<-read.delim(\"wdbc.txt\",sep = \",\", dec = \".\",header = FALSE)\n",
    "Dataset_1$V2 = as.factor(Dataset_1$V2)\n",
    "head(Dataset_1)\n",
    "str(Dataset_1)"
   ]
  },
  {
   "cell_type": "code",
   "execution_count": 2,
   "metadata": {},
   "outputs": [],
   "source": [
    "# column V1 gives the ID number, I will drop this column since it is unnecessary.\n",
    "Dataset_1<-Dataset_1[,-1] \n",
    "\n",
    "# random splitting of data to train and test\n",
    "v <- as.vector(c(rep(TRUE,369),rep(FALSE,200)))\n",
    "ind <- sample(v) \n",
    "Dataset_1_train <- Dataset_1[ind, ] \n",
    "Dataset_1_test <- Dataset_1[!ind, ] "
   ]
  },
  {
   "cell_type": "markdown",
   "metadata": {},
   "source": [
    "## Penalized Regression\n",
    "\n",
    "In the penalized regression approach, cross validation is used on the train data to find the best value of the lambda and it is found after 10 fold cross validation. Then with this lambda a model is built to predict diagnosis class of the test data instances."
   ]
  },
  {
   "cell_type": "code",
   "execution_count": 3,
   "metadata": {},
   "outputs": [
    {
     "name": "stderr",
     "output_type": "stream",
     "text": [
      "Warning message:\n",
      "\"package 'glmnet' was built under R version 3.6.3\"Loading required package: Matrix\n",
      "Loaded glmnet 4.1\n"
     ]
    },
    {
     "name": "stdout",
     "output_type": "stream",
     "text": [
      "[1] \"min lambda: \"      \"0.004775321257161\"\n"
     ]
    },
    {
     "data": {
      "image/png": "[encoded data removed]",
      "text/plain": [
       "plot without title"
      ]
     },
     "metadata": {},
     "output_type": "display_data"
    }
   ],
   "source": [
    "library(glmnet)\n",
    "new_train<-as.matrix(Dataset_1_train[,-1])\n",
    "new_test<-as.matrix(Dataset_1_test[,-1])\n",
    "cross_validation<-cv.glmnet(new_train,as.matrix(Dataset_1_train$V2) ,family=\"multinomial\", alpha=1)\n",
    "options(repr.plot.width=5, repr.plot.height=5)\n",
    "print(c(\"min lambda: \",cross_validation$lambda.min))\n",
    "plot(cross_validation)"
   ]
  },
  {
   "cell_type": "code",
   "execution_count": 5,
   "metadata": {},
   "outputs": [
    {
     "name": "stdout",
     "output_type": "stream",
     "text": [
      "[1] \"min lambda: \"      \"0.004775321257161\"\n"
     ]
    }
   ],
   "source": [
    "print(c(\"min lambda: \",cross_validation$lambda.min))"
   ]
  },
  {
   "cell_type": "code",
   "execution_count": 4,
   "metadata": {},
   "outputs": [
    {
     "data": {
      "text/plain": [
       "           Length Class  Mode     \n",
       "a0         2      -none- numeric  \n",
       "beta       2      -none- list     \n",
       "dfmat      2      -none- numeric  \n",
       "df         1      -none- numeric  \n",
       "dim        2      -none- numeric  \n",
       "lambda     1      -none- numeric  \n",
       "dev.ratio  1      -none- numeric  \n",
       "nulldev    1      -none- numeric  \n",
       "npasses    1      -none- numeric  \n",
       "jerr       1      -none- numeric  \n",
       "offset     1      -none- logical  \n",
       "classnames 2      -none- character\n",
       "grouped    1      -none- logical  \n",
       "call       6      -none- call     \n",
       "nobs       1      -none- numeric  "
      ]
     },
     "metadata": {},
     "output_type": "display_data"
    }
   ],
   "source": [
    "# fitting the penalized regression model\n",
    "fit <- glmnet(new_train,as.matrix(Dataset_1_train$V2) ,family=\"multinomial\", alpha=1,lambda=cross_validation$lambda.min)\n",
    "# summarize the model\n",
    "summary(fit)"
   ]
  },
  {
   "cell_type": "code",
   "execution_count": 6,
   "metadata": {},
   "outputs": [
    {
     "name": "stdout",
     "output_type": "stream",
     "text": [
      "[1] \"confusion matrix for the train data\"\n",
      "   \n",
      "      B   M\n",
      "  B 245   5\n",
      "  M   0 119\n"
     ]
    }
   ],
   "source": [
    "# prediction for train data\n",
    "predictions <- predict(fit, new_train, type=\"class\")\n",
    "# accuracy for train data\n",
    "tab<-table(predictions[,1],Dataset_1_train$V2)\n",
    "print(\"confusion matrix for the train data\")\n",
    "print(tab)"
   ]
  },
  {
   "cell_type": "code",
   "execution_count": 7,
   "metadata": {},
   "outputs": [
    {
     "name": "stdout",
     "output_type": "stream",
     "text": [
      "[1] \"train error\"        \"0.0135501355013551\"\n"
     ]
    }
   ],
   "source": [
    "train_error<-1-sum(diag(tab)/sum(tab))\n",
    "print(c(\"train error\",train_error))"
   ]
  },
  {
   "cell_type": "code",
   "execution_count": 8,
   "metadata": {},
   "outputs": [
    {
     "name": "stdout",
     "output_type": "stream",
     "text": [
      "[1] \"confusion matrix for the test data\"\n",
      "   \n",
      "      B   M\n",
      "  B 111   6\n",
      "  M   1  82\n"
     ]
    }
   ],
   "source": [
    "# prediction for test data\n",
    "predictions <- predict(fit, new_test, type=\"class\")\n",
    "# accuracy for test data\n",
    "tab<-table(predictions[,1],Dataset_1_test$V2)\n",
    "print(\"confusion matrix for the test data\")\n",
    "print(tab)"
   ]
  },
  {
   "cell_type": "code",
   "execution_count": 9,
   "metadata": {},
   "outputs": [
    {
     "name": "stdout",
     "output_type": "stream",
     "text": [
      "[1] \"test error\"         \"0.0349999999999999\"\n"
     ]
    }
   ],
   "source": [
    "test_error<-1-sum(diag(tab)/sum(tab))\n",
    "print(c(\"test error\",test_error))"
   ]
  },
  {
   "cell_type": "markdown",
   "metadata": {},
   "source": [
    "<ins>Results</ins>:\n",
    "\n",
    "- Confusion matrix and error rates are used as performance metrics. \n",
    "- Results show that train error is smaller than test error but for both train and test data, the model performs well since error rates are small."
   ]
  },
  {
   "cell_type": "markdown",
   "metadata": {},
   "source": [
    "## Decision Tree\n",
    "\n",
    "In decision tree approach, for **the minimal number of observations per tree leaf** 2,3,4 and 5 are used; for **the complexity parameter** 0.005, 0.01, 0.015 and 0.02 are used."
   ]
  },
  {
   "cell_type": "code",
   "execution_count": 10,
   "metadata": {},
   "outputs": [
    {
     "name": "stderr",
     "output_type": "stream",
     "text": [
      "Warning message:\n",
      "\"package 'rpart' was built under R version 3.6.3\"Loading required package: rpart.plot\n",
      "Warning message:\n",
      "\"package 'rpart.plot' was built under R version 3.6.3\""
     ]
    }
   ],
   "source": [
    "library(rpart)\n",
    "require(rpart.plot)"
   ]
  },
  {
   "cell_type": "code",
   "execution_count": 16,
   "metadata": {},
   "outputs": [],
   "source": [
    "set.seed(168)\n",
    "\n",
    "decision_tree <- function(i) {\n",
    "    dtree1<-rpart(V2~.,data = Dataset_1_train,control = rpart.control(minbucket = 1+i,cp=0.005*i))\n",
    "    a<-as.data.frame(printcp(dtree1))\n",
    "    par(cex = .55)\n",
    "    rpart.plot(dtree1,extra = 2,compress=TRUE)\n",
    "  \n",
    "    # prediction\n",
    "    predict(dtree1,Dataset_1_test)\n",
    "    \n",
    "    # misclassification error for train data\n",
    "    tab1_train<-table(predict(dtree1,Dataset_1_train, type=\"class\"),Dataset_1_train$V2)\n",
    "    print(tab1_train)\n",
    "    error1_train<-1-sum(diag(tab1_train)/sum(tab1_train))\n",
    "    print(c(\"train error:\",error1_train)) \n",
    "  \n",
    "    # misclassification error for test data\n",
    "    tab1_test<-table(predict(dtree1,Dataset_1_test, type=\"class\"),Dataset_1_test$V2)\n",
    "    error1_test<-1-sum(diag(tab1_test)/sum(tab1_test))\n",
    "    print(c(\"test error:\",error1_test))\n",
    "    \n",
    "    options(repr.plot.width=4, repr.plot.height=4)\n",
    "    #print(\"cp values for error rates:\")\n",
    "    plotcp(dtree1)\n",
    "    return(c(error1_train,error1_test))\n",
    "}"
   ]
  },
  {
   "cell_type": "code",
   "execution_count": 17,
   "metadata": {},
   "outputs": [],
   "source": [
    "train_err <- list()\n",
    "test_err <- list()"
   ]
  },
  {
   "cell_type": "code",
   "execution_count": 18,
   "metadata": {},
   "outputs": [
    {
     "name": "stdout",
     "output_type": "stream",
     "text": [
      "\n",
      "Classification tree:\n",
      "rpart(formula = V2 ~ ., data = Dataset_1_train, control = rpart.control(minbucket = 1 + \n",
      "    i, cp = 0.005 * i))\n",
      "\n",
      "Variables actually used in tree construction:\n",
      "[1] V23 V25 V3  V30 V32\n",
      "\n",
      "Root node error: 124/369 = 0.33604\n",
      "\n",
      "n= 369 \n",
      "\n",
      "        CP nsplit rel error  xerror     xstd\n",
      "1 0.822581      0  1.000000 1.00000 0.073174\n",
      "2 0.072581      1  0.177419 0.22581 0.041022\n",
      "3 0.020161      2  0.104839 0.15323 0.034235\n",
      "4 0.016129      4  0.064516 0.16129 0.035075\n",
      "5 0.005000      5  0.048387 0.13710 0.032476\n",
      "   \n",
      "      B   M\n",
      "  B 242   3\n",
      "  M   3 121\n",
      "[1] \"train error:\"      \"0.016260162601626\"\n",
      "[1] \"test error:\" \"0.1\"        \n"
     ]
    },
    {
     "data": {
      "image/png": "[encoded data removed]",
      "text/plain": [
       "plot without title"
      ]
     },
     "metadata": {},
     "output_type": "display_data"
    },
    {
     "data": {
      "image/png": "[encoded data removed]",
      "text/plain": [
       "plot without title"
      ]
     },
     "metadata": {},
     "output_type": "display_data"
    }
   ],
   "source": [
    "err = decision_tree(1)\n",
    "train_err <- append(train_err,err[1])\n",
    "test_err <- append(test_err,err[2])"
   ]
  },
  {
   "cell_type": "code",
   "execution_count": 19,
   "metadata": {},
   "outputs": [
    {
     "name": "stdout",
     "output_type": "stream",
     "text": [
      "\n",
      "Classification tree:\n",
      "rpart(formula = V2 ~ ., data = Dataset_1_train, control = rpart.control(minbucket = 1 + \n",
      "    i, cp = 0.005 * i))\n",
      "\n",
      "Variables actually used in tree construction:\n",
      "[1] V23 V25 V3  V30 V32\n",
      "\n",
      "Root node error: 124/369 = 0.33604\n",
      "\n",
      "n= 369 \n",
      "\n",
      "        CP nsplit rel error  xerror     xstd\n",
      "1 0.822581      0  1.000000 1.00000 0.073174\n",
      "2 0.072581      1  0.177419 0.29032 0.045966\n",
      "3 0.020161      2  0.104839 0.20161 0.038933\n",
      "4 0.016129      4  0.064516 0.18548 0.037451\n",
      "5 0.010000      5  0.048387 0.16935 0.035889\n",
      "   \n",
      "      B   M\n",
      "  B 242   3\n",
      "  M   3 121\n",
      "[1] \"train error:\"      \"0.016260162601626\"\n",
      "[1] \"test error:\" \"0.1\"        \n"
     ]
    },
    {
     "data": {
      "image/png": "[encoded data removed]",
      "text/plain": [
       "plot without title"
      ]
     },
     "metadata": {},
     "output_type": "display_data"
    },
    {
     "data": {
      "image/png": "[encoded data removed]",
      "text/plain": [
       "plot without title"
      ]
     },
     "metadata": {},
     "output_type": "display_data"
    }
   ],
   "source": [
    "err = decision_tree(2)\n",
    "train_err <- append(train_err,err[1])\n",
    "test_err <- append(test_err,err[2])"
   ]
  },
  {
   "cell_type": "code",
   "execution_count": 20,
   "metadata": {},
   "outputs": [
    {
     "name": "stdout",
     "output_type": "stream",
     "text": [
      "\n",
      "Classification tree:\n",
      "rpart(formula = V2 ~ ., data = Dataset_1_train, control = rpart.control(minbucket = 1 + \n",
      "    i, cp = 0.005 * i))\n",
      "\n",
      "Variables actually used in tree construction:\n",
      "[1] V23 V25 V3  V30 V32\n",
      "\n",
      "Root node error: 124/369 = 0.33604\n",
      "\n",
      "n= 369 \n",
      "\n",
      "        CP nsplit rel error  xerror     xstd\n",
      "1 0.822581      0  1.000000 1.00000 0.073174\n",
      "2 0.072581      1  0.177419 0.22581 0.041022\n",
      "3 0.020161      2  0.104839 0.15323 0.034235\n",
      "4 0.016129      4  0.064516 0.15323 0.034235\n",
      "5 0.015000      5  0.048387 0.14516 0.033370\n",
      "   \n",
      "      B   M\n",
      "  B 242   3\n",
      "  M   3 121\n",
      "[1] \"train error:\"      \"0.016260162601626\"\n",
      "[1] \"test error:\" \"0.1\"        \n"
     ]
    },
    {
     "data": {
      "image/png": "[encoded data removed]",
      "text/plain": [
       "plot without title"
      ]
     },
     "metadata": {},
     "output_type": "display_data"
    },
    {
     "data": {
      "image/png": "[encoded data removed]",
      "text/plain": [
       "plot without title"
      ]
     },
     "metadata": {},
     "output_type": "display_data"
    }
   ],
   "source": [
    "err = decision_tree(3)\n",
    "train_err <- append(train_err,err[1])\n",
    "test_err <- append(test_err,err[2])"
   ]
  },
  {
   "cell_type": "code",
   "execution_count": 21,
   "metadata": {},
   "outputs": [
    {
     "name": "stdout",
     "output_type": "stream",
     "text": [
      "\n",
      "Classification tree:\n",
      "rpart(formula = V2 ~ ., data = Dataset_1_train, control = rpart.control(minbucket = 1 + \n",
      "    i, cp = 0.005 * i))\n",
      "\n",
      "Variables actually used in tree construction:\n",
      "[1] V23 V25 V3  V30\n",
      "\n",
      "Root node error: 124/369 = 0.33604\n",
      "\n",
      "n= 369 \n",
      "\n",
      "        CP nsplit rel error  xerror     xstd\n",
      "1 0.822581      0  1.000000 1.00000 0.073174\n",
      "2 0.072581      1  0.177419 0.23387 0.041687\n",
      "3 0.020161      2  0.104839 0.15323 0.034235\n",
      "4 0.020000      4  0.064516 0.18548 0.037451\n",
      "   \n",
      "      B   M\n",
      "  B 243   6\n",
      "  M   2 118\n",
      "[1] \"train error:\"       \"0.0216802168021679\"\n",
      "[1] \"test error:\" \"0.095\"      \n"
     ]
    },
    {
     "data": {
      "image/png": "[encoded data removed]",
      "text/plain": [
       "plot without title"
      ]
     },
     "metadata": {},
     "output_type": "display_data"
    },
    {
     "data": {
      "image/png": "[encoded data removed]",
      "text/plain": [
       "plot without title"
      ]
     },
     "metadata": {},
     "output_type": "display_data"
    }
   ],
   "source": [
    "err = decision_tree(4)\n",
    "train_err <- append(train_err,err[1])\n",
    "test_err <- append(test_err,err[2])"
   ]
  },
  {
   "cell_type": "code",
   "execution_count": 22,
   "metadata": {},
   "outputs": [
    {
     "data": {
      "text/html": [
       "<ol>\n",
       "\t<li>0.016260162601626</li>\n",
       "\t<li>0.016260162601626</li>\n",
       "\t<li>0.016260162601626</li>\n",
       "\t<li>0.0216802168021679</li>\n",
       "</ol>\n"
      ],
      "text/latex": [
       "\\begin{enumerate}\n",
       "\\item 0.016260162601626\n",
       "\\item 0.016260162601626\n",
       "\\item 0.016260162601626\n",
       "\\item 0.0216802168021679\n",
       "\\end{enumerate}\n"
      ],
      "text/markdown": [
       "1. 0.016260162601626\n",
       "2. 0.016260162601626\n",
       "3. 0.016260162601626\n",
       "4. 0.0216802168021679\n",
       "\n",
       "\n"
      ],
      "text/plain": [
       "[[1]]\n",
       "[1] 0.01626016\n",
       "\n",
       "[[2]]\n",
       "[1] 0.01626016\n",
       "\n",
       "[[3]]\n",
       "[1] 0.01626016\n",
       "\n",
       "[[4]]\n",
       "[1] 0.02168022\n"
      ]
     },
     "metadata": {},
     "output_type": "display_data"
    }
   ],
   "source": [
    "train_err"
   ]
  },
  {
   "cell_type": "code",
   "execution_count": 24,
   "metadata": {},
   "outputs": [
    {
     "data": {
      "text/html": [
       "<ol>\n",
       "\t<li>0.1</li>\n",
       "\t<li>0.1</li>\n",
       "\t<li>0.1</li>\n",
       "\t<li>0.095</li>\n",
       "</ol>\n"
      ],
      "text/latex": [
       "\\begin{enumerate}\n",
       "\\item 0.1\n",
       "\\item 0.1\n",
       "\\item 0.1\n",
       "\\item 0.095\n",
       "\\end{enumerate}\n"
      ],
      "text/markdown": [
       "1. 0.1\n",
       "2. 0.1\n",
       "3. 0.1\n",
       "4. 0.095\n",
       "\n",
       "\n"
      ],
      "text/plain": [
       "[[1]]\n",
       "[1] 0.1\n",
       "\n",
       "[[2]]\n",
       "[1] 0.1\n",
       "\n",
       "[[3]]\n",
       "[1] 0.1\n",
       "\n",
       "[[4]]\n",
       "[1] 0.095\n"
      ]
     },
     "metadata": {},
     "output_type": "display_data"
    }
   ],
   "source": [
    "test_err"
   ]
  },
  {
   "cell_type": "markdown",
   "metadata": {},
   "source": [
    "- For both train and test data first three models give the same test and train error rates but for the test data, the last model which have **the minimal number of observations per tree leaf of 5** and **the complexity parameter of 0.02** performs better than others."
   ]
  },
  {
   "cell_type": "markdown",
   "metadata": {},
   "source": [
    "## Random Forest\n",
    "\n",
    "In random forest approach, J trees are fit to bootstrap samples using a random sample of m features on which to split each\n",
    "node. I used (12,14,16,18,20) as m in each iteration to find the best value."
   ]
  },
  {
   "cell_type": "code",
   "execution_count": 25,
   "metadata": {},
   "outputs": [
    {
     "name": "stderr",
     "output_type": "stream",
     "text": [
      "Loading required package: randomForest\n",
      "Warning message:\n",
      "\"package 'randomForest' was built under R version 3.6.3\"randomForest 4.6-14\n",
      "Type rfNews() to see new features/changes/bug fixes.\n",
      "Warning message:\n",
      "\"package 'cowplot' was built under R version 3.6.3\""
     ]
    }
   ],
   "source": [
    "require(randomForest)\n",
    "library(cowplot)"
   ]
  },
  {
   "cell_type": "code",
   "execution_count": 29,
   "metadata": {},
   "outputs": [],
   "source": [
    "set.seed(165)\n",
    "\n",
    "random_forest <- function(i){\n",
    "    model<-randomForest(V2~.,data=Dataset_1_train,proximity=TRUE,mtry=10+2*i)\n",
    "    print(model)\n",
    "    \n",
    "    # misclassification error for train data\n",
    "    tab1_train<-table(predict(model,Dataset_1_train, type=\"class\"),Dataset_1_train$V2)\n",
    "    print(tab1_train)\n",
    "    error1_train<-1-sum(diag(tab1_train)/sum(tab1_train))\n",
    "    print(c(\"train error:\",error1_train)) \n",
    "  \n",
    "    # misclassification error for test data\n",
    "    tab1_test<-table(predict(model,Dataset_1_test, type=\"class\"),Dataset_1_test$V2)\n",
    "    error1_test<-1-sum(diag(tab1_test)/sum(tab1_test))\n",
    "    print(c(\"test error:\",error1_test))\n",
    "    \n",
    "    return(error1_test)\n",
    "}"
   ]
  },
  {
   "cell_type": "code",
   "execution_count": 30,
   "metadata": {},
   "outputs": [],
   "source": [
    "err <- list()"
   ]
  },
  {
   "cell_type": "code",
   "execution_count": 31,
   "metadata": {},
   "outputs": [
    {
     "name": "stdout",
     "output_type": "stream",
     "text": [
      "\n",
      "Call:\n",
      " randomForest(formula = V2 ~ ., data = Dataset_1_train, proximity = TRUE,      mtry = 10 + 2 * i) \n",
      "               Type of random forest: classification\n",
      "                     Number of trees: 500\n",
      "No. of variables tried at each split: 12\n",
      "\n",
      "        OOB estimate of  error rate: 3.79%\n",
      "Confusion matrix:\n",
      "    B   M class.error\n",
      "B 241   4  0.01632653\n",
      "M  10 114  0.08064516\n",
      "   \n",
      "      B   M\n",
      "  B 245   0\n",
      "  M   0 124\n",
      "[1] \"train error:\" \"0\"           \n",
      "[1] \"test error:\"        \"0.0599999999999999\"\n"
     ]
    }
   ],
   "source": [
    "e = random_forest(1)\n",
    "err = append(err,e)"
   ]
  },
  {
   "cell_type": "code",
   "execution_count": 32,
   "metadata": {},
   "outputs": [
    {
     "name": "stdout",
     "output_type": "stream",
     "text": [
      "\n",
      "Call:\n",
      " randomForest(formula = V2 ~ ., data = Dataset_1_train, proximity = TRUE,      mtry = 10 + 2 * i) \n",
      "               Type of random forest: classification\n",
      "                     Number of trees: 500\n",
      "No. of variables tried at each split: 14\n",
      "\n",
      "        OOB estimate of  error rate: 3.79%\n",
      "Confusion matrix:\n",
      "    B   M class.error\n",
      "B 240   5  0.02040816\n",
      "M   9 115  0.07258065\n",
      "   \n",
      "      B   M\n",
      "  B 245   0\n",
      "  M   0 124\n",
      "[1] \"train error:\" \"0\"           \n",
      "[1] \"test error:\" \"0.07\"       \n"
     ]
    }
   ],
   "source": [
    "e = random_forest(2)\n",
    "err = append(err,e)"
   ]
  },
  {
   "cell_type": "code",
   "execution_count": 33,
   "metadata": {},
   "outputs": [
    {
     "name": "stdout",
     "output_type": "stream",
     "text": [
      "\n",
      "Call:\n",
      " randomForest(formula = V2 ~ ., data = Dataset_1_train, proximity = TRUE,      mtry = 10 + 2 * i) \n",
      "               Type of random forest: classification\n",
      "                     Number of trees: 500\n",
      "No. of variables tried at each split: 16\n",
      "\n",
      "        OOB estimate of  error rate: 4.07%\n",
      "Confusion matrix:\n",
      "    B   M class.error\n",
      "B 240   5  0.02040816\n",
      "M  10 114  0.08064516\n",
      "   \n",
      "      B   M\n",
      "  B 245   0\n",
      "  M   0 124\n",
      "[1] \"train error:\" \"0\"           \n",
      "[1] \"test error:\"        \"0.0649999999999999\"\n"
     ]
    }
   ],
   "source": [
    "e = random_forest(3)\n",
    "err = append(err,e)"
   ]
  },
  {
   "cell_type": "code",
   "execution_count": 34,
   "metadata": {},
   "outputs": [
    {
     "name": "stdout",
     "output_type": "stream",
     "text": [
      "\n",
      "Call:\n",
      " randomForest(formula = V2 ~ ., data = Dataset_1_train, proximity = TRUE,      mtry = 10 + 2 * i) \n",
      "               Type of random forest: classification\n",
      "                     Number of trees: 500\n",
      "No. of variables tried at each split: 18\n",
      "\n",
      "        OOB estimate of  error rate: 4.07%\n",
      "Confusion matrix:\n",
      "    B   M class.error\n",
      "B 239   6  0.02448980\n",
      "M   9 115  0.07258065\n",
      "   \n",
      "      B   M\n",
      "  B 245   0\n",
      "  M   0 124\n",
      "[1] \"train error:\" \"0\"           \n",
      "[1] \"test error:\"        \"0.0649999999999999\"\n"
     ]
    }
   ],
   "source": [
    "e = random_forest(4)\n",
    "err = append(err,e)"
   ]
  },
  {
   "cell_type": "code",
   "execution_count": 35,
   "metadata": {},
   "outputs": [
    {
     "name": "stdout",
     "output_type": "stream",
     "text": [
      "\n",
      "Call:\n",
      " randomForest(formula = V2 ~ ., data = Dataset_1_train, proximity = TRUE,      mtry = 10 + 2 * i) \n",
      "               Type of random forest: classification\n",
      "                     Number of trees: 500\n",
      "No. of variables tried at each split: 20\n",
      "\n",
      "        OOB estimate of  error rate: 3.79%\n",
      "Confusion matrix:\n",
      "    B   M class.error\n",
      "B 240   5  0.02040816\n",
      "M   9 115  0.07258065\n",
      "   \n",
      "      B   M\n",
      "  B 245   0\n",
      "  M   0 124\n",
      "[1] \"train error:\" \"0\"           \n",
      "[1] \"test error:\"        \"0.0649999999999999\"\n"
     ]
    }
   ],
   "source": [
    "e = random_forest(5)\n",
    "err = append(err,e)"
   ]
  },
  {
   "cell_type": "code",
   "execution_count": 36,
   "metadata": {},
   "outputs": [
    {
     "data": {
      "text/html": [
       "<ol>\n",
       "\t<li>0.0599999999999999</li>\n",
       "\t<li>0.07</li>\n",
       "\t<li>0.0649999999999999</li>\n",
       "\t<li>0.0649999999999999</li>\n",
       "\t<li>0.0649999999999999</li>\n",
       "</ol>\n"
      ],
      "text/latex": [
       "\\begin{enumerate}\n",
       "\\item 0.0599999999999999\n",
       "\\item 0.07\n",
       "\\item 0.0649999999999999\n",
       "\\item 0.0649999999999999\n",
       "\\item 0.0649999999999999\n",
       "\\end{enumerate}\n"
      ],
      "text/markdown": [
       "1. 0.0599999999999999\n",
       "2. 0.07\n",
       "3. 0.0649999999999999\n",
       "4. 0.0649999999999999\n",
       "5. 0.0649999999999999\n",
       "\n",
       "\n"
      ],
      "text/plain": [
       "[[1]]\n",
       "[1] 0.06\n",
       "\n",
       "[[2]]\n",
       "[1] 0.07\n",
       "\n",
       "[[3]]\n",
       "[1] 0.065\n",
       "\n",
       "[[4]]\n",
       "[1] 0.065\n",
       "\n",
       "[[5]]\n",
       "[1] 0.065\n"
      ]
     },
     "metadata": {},
     "output_type": "display_data"
    }
   ],
   "source": [
    "err"
   ]
  },
  {
   "cell_type": "markdown",
   "metadata": {},
   "source": [
    "- Comparing the test error rates, the best model is found with m=12.\n",
    "\n",
    "- With the best decision tree, test error is 0.095 and in this approach with the best model, test error is 0.059999. Thus, random forest performs better than decision tree for this data."
   ]
  },
  {
   "cell_type": "markdown",
   "metadata": {},
   "source": [
    "## Stochastic Gradient Boosting (SGB)\n",
    "\n",
    "In this part, different values of depth, learning rate and the number of trees are tried. After all, the best values of these parameters are obtained from the cross validation. Note that, after the implementation of the procedure, the model gives the result in the probability format. After converting these probability data to the categorical results, the confusion matrices are created and the error rates are calculated these matrices."
   ]
  },
  {
   "cell_type": "code",
   "execution_count": 37,
   "metadata": {},
   "outputs": [
    {
     "name": "stderr",
     "output_type": "stream",
     "text": [
      "Warning message:\n",
      "\"package 'caret' was built under R version 3.6.3\"Loading required package: lattice\n",
      "Warning message:\n",
      "\"package 'lattice' was built under R version 3.6.3\"Loading required package: ggplot2\n",
      "Warning message:\n",
      "\"package 'ggplot2' was built under R version 3.6.3\"\n",
      "Attaching package: 'ggplot2'\n",
      "\n",
      "The following object is masked from 'package:randomForest':\n",
      "\n",
      "    margin\n",
      "\n",
      "Loading required package: gbm\n",
      "Warning message:\n",
      "\"package 'gbm' was built under R version 3.6.3\"Loaded gbm 2.1.8\n"
     ]
    }
   ],
   "source": [
    "library(caret)\n",
    "require(gbm)"
   ]
  },
  {
   "cell_type": "code",
   "execution_count": 40,
   "metadata": {},
   "outputs": [
    {
     "name": "stderr",
     "output_type": "stream",
     "text": [
      "Warning message:\n",
      "\"Setting `distribution = \"multinomial\"` is ill-advised as it is currently broken. It exists only for backwards compatibility. Use at your own risk.\""
     ]
    },
    {
     "data": {
      "text/html": [
       "<table>\n",
       "<thead><tr><th></th><th scope=col>var</th><th scope=col>rel.inf</th></tr></thead>\n",
       "<tbody>\n",
       "\t<tr><th scope=row>V25</th><td>V25         </td><td>31.053939729</td></tr>\n",
       "\t<tr><th scope=row>V30</th><td>V30         </td><td>25.279631036</td></tr>\n",
       "\t<tr><th scope=row>V10</th><td>V10         </td><td>12.903393843</td></tr>\n",
       "\t<tr><th scope=row>V16</th><td>V16         </td><td>10.256716531</td></tr>\n",
       "\t<tr><th scope=row>V26</th><td>V26         </td><td> 7.228440213</td></tr>\n",
       "\t<tr><th scope=row>V23</th><td>V23         </td><td> 6.193259526</td></tr>\n",
       "\t<tr><th scope=row>V4</th><td>V4          </td><td> 1.383165606</td></tr>\n",
       "\t<tr><th scope=row>V24</th><td>V24         </td><td> 1.267514873</td></tr>\n",
       "\t<tr><th scope=row>V31</th><td>V31         </td><td> 1.058646082</td></tr>\n",
       "\t<tr><th scope=row>V21</th><td>V21         </td><td> 0.935443225</td></tr>\n",
       "\t<tr><th scope=row>V27</th><td>V27         </td><td> 0.791708550</td></tr>\n",
       "\t<tr><th scope=row>V29</th><td>V29         </td><td> 0.583438986</td></tr>\n",
       "\t<tr><th scope=row>V32</th><td>V32         </td><td> 0.339673134</td></tr>\n",
       "\t<tr><th scope=row>V7</th><td>V7          </td><td> 0.258864633</td></tr>\n",
       "\t<tr><th scope=row>V12</th><td>V12         </td><td> 0.165896535</td></tr>\n",
       "\t<tr><th scope=row>V22</th><td>V22         </td><td> 0.140950441</td></tr>\n",
       "\t<tr><th scope=row>V20</th><td>V20         </td><td> 0.058430252</td></tr>\n",
       "\t<tr><th scope=row>V19</th><td>V19         </td><td> 0.034985929</td></tr>\n",
       "\t<tr><th scope=row>V17</th><td>V17         </td><td> 0.033063681</td></tr>\n",
       "\t<tr><th scope=row>V28</th><td>V28         </td><td> 0.023041831</td></tr>\n",
       "\t<tr><th scope=row>V14</th><td>V14         </td><td> 0.009795364</td></tr>\n",
       "\t<tr><th scope=row>V3</th><td>V3          </td><td> 0.000000000</td></tr>\n",
       "\t<tr><th scope=row>V5</th><td>V5          </td><td> 0.000000000</td></tr>\n",
       "\t<tr><th scope=row>V6</th><td>V6          </td><td> 0.000000000</td></tr>\n",
       "\t<tr><th scope=row>V8</th><td>V8          </td><td> 0.000000000</td></tr>\n",
       "\t<tr><th scope=row>V9</th><td>V9          </td><td> 0.000000000</td></tr>\n",
       "\t<tr><th scope=row>V11</th><td>V11         </td><td> 0.000000000</td></tr>\n",
       "\t<tr><th scope=row>V13</th><td>V13         </td><td> 0.000000000</td></tr>\n",
       "\t<tr><th scope=row>V15</th><td>V15         </td><td> 0.000000000</td></tr>\n",
       "\t<tr><th scope=row>V18</th><td>V18         </td><td> 0.000000000</td></tr>\n",
       "</tbody>\n",
       "</table>\n"
      ],
      "text/latex": [
       "\\begin{tabular}{r|ll}\n",
       "  & var & rel.inf\\\\\n",
       "\\hline\n",
       "\tV25 & V25          & 31.053939729\\\\\n",
       "\tV30 & V30          & 25.279631036\\\\\n",
       "\tV10 & V10          & 12.903393843\\\\\n",
       "\tV16 & V16          & 10.256716531\\\\\n",
       "\tV26 & V26          &  7.228440213\\\\\n",
       "\tV23 & V23          &  6.193259526\\\\\n",
       "\tV4 & V4           &  1.383165606\\\\\n",
       "\tV24 & V24          &  1.267514873\\\\\n",
       "\tV31 & V31          &  1.058646082\\\\\n",
       "\tV21 & V21          &  0.935443225\\\\\n",
       "\tV27 & V27          &  0.791708550\\\\\n",
       "\tV29 & V29          &  0.583438986\\\\\n",
       "\tV32 & V32          &  0.339673134\\\\\n",
       "\tV7 & V7           &  0.258864633\\\\\n",
       "\tV12 & V12          &  0.165896535\\\\\n",
       "\tV22 & V22          &  0.140950441\\\\\n",
       "\tV20 & V20          &  0.058430252\\\\\n",
       "\tV19 & V19          &  0.034985929\\\\\n",
       "\tV17 & V17          &  0.033063681\\\\\n",
       "\tV28 & V28          &  0.023041831\\\\\n",
       "\tV14 & V14          &  0.009795364\\\\\n",
       "\tV3 & V3           &  0.000000000\\\\\n",
       "\tV5 & V5           &  0.000000000\\\\\n",
       "\tV6 & V6           &  0.000000000\\\\\n",
       "\tV8 & V8           &  0.000000000\\\\\n",
       "\tV9 & V9           &  0.000000000\\\\\n",
       "\tV11 & V11          &  0.000000000\\\\\n",
       "\tV13 & V13          &  0.000000000\\\\\n",
       "\tV15 & V15          &  0.000000000\\\\\n",
       "\tV18 & V18          &  0.000000000\\\\\n",
       "\\end{tabular}\n"
      ],
      "text/markdown": [
       "\n",
       "| <!--/--> | var | rel.inf |\n",
       "|---|---|---|\n",
       "| V25 | V25          | 31.053939729 |\n",
       "| V30 | V30          | 25.279631036 |\n",
       "| V10 | V10          | 12.903393843 |\n",
       "| V16 | V16          | 10.256716531 |\n",
       "| V26 | V26          |  7.228440213 |\n",
       "| V23 | V23          |  6.193259526 |\n",
       "| V4 | V4           |  1.383165606 |\n",
       "| V24 | V24          |  1.267514873 |\n",
       "| V31 | V31          |  1.058646082 |\n",
       "| V21 | V21          |  0.935443225 |\n",
       "| V27 | V27          |  0.791708550 |\n",
       "| V29 | V29          |  0.583438986 |\n",
       "| V32 | V32          |  0.339673134 |\n",
       "| V7 | V7           |  0.258864633 |\n",
       "| V12 | V12          |  0.165896535 |\n",
       "| V22 | V22          |  0.140950441 |\n",
       "| V20 | V20          |  0.058430252 |\n",
       "| V19 | V19          |  0.034985929 |\n",
       "| V17 | V17          |  0.033063681 |\n",
       "| V28 | V28          |  0.023041831 |\n",
       "| V14 | V14          |  0.009795364 |\n",
       "| V3 | V3           |  0.000000000 |\n",
       "| V5 | V5           |  0.000000000 |\n",
       "| V6 | V6           |  0.000000000 |\n",
       "| V8 | V8           |  0.000000000 |\n",
       "| V9 | V9           |  0.000000000 |\n",
       "| V11 | V11          |  0.000000000 |\n",
       "| V13 | V13          |  0.000000000 |\n",
       "| V15 | V15          |  0.000000000 |\n",
       "| V18 | V18          |  0.000000000 |\n",
       "\n"
      ],
      "text/plain": [
       "    var rel.inf     \n",
       "V25 V25 31.053939729\n",
       "V30 V30 25.279631036\n",
       "V10 V10 12.903393843\n",
       "V16 V16 10.256716531\n",
       "V26 V26  7.228440213\n",
       "V23 V23  6.193259526\n",
       "V4  V4   1.383165606\n",
       "V24 V24  1.267514873\n",
       "V31 V31  1.058646082\n",
       "V21 V21  0.935443225\n",
       "V27 V27  0.791708550\n",
       "V29 V29  0.583438986\n",
       "V32 V32  0.339673134\n",
       "V7  V7   0.258864633\n",
       "V12 V12  0.165896535\n",
       "V22 V22  0.140950441\n",
       "V20 V20  0.058430252\n",
       "V19 V19  0.034985929\n",
       "V17 V17  0.033063681\n",
       "V28 V28  0.023041831\n",
       "V14 V14  0.009795364\n",
       "V3  V3   0.000000000\n",
       "V5  V5   0.000000000\n",
       "V6  V6   0.000000000\n",
       "V8  V8   0.000000000\n",
       "V9  V9   0.000000000\n",
       "V11 V11  0.000000000\n",
       "V13 V13  0.000000000\n",
       "V15 V15  0.000000000\n",
       "V18 V18  0.000000000"
      ]
     },
     "metadata": {},
     "output_type": "display_data"
    },
    {
     "data": {
      "image/png": "[encoded data removed]",
      "text/plain": [
       "plot without title"
      ]
     },
     "metadata": {},
     "output_type": "display_data"
    }
   ],
   "source": [
    "set.seed(123)\n",
    "gbm_tree<-gbm(V2~.,data = Dataset_1_train,distribution=\"multinomial\")\n",
    "summary(gbm_tree)\n",
    "set.seed(123)"
   ]
  },
  {
   "cell_type": "code",
   "execution_count": 41,
   "metadata": {},
   "outputs": [
    {
     "name": "stdout",
     "output_type": "stream",
     "text": [
      "[1] \"test error:\"        \"0.0549999999999999\"\n"
     ]
    }
   ],
   "source": [
    "p1<-as.data.frame(predict(gbm_tree,Dataset_1_test, type = \"response\",n.trees = 100))\n",
    "predictions<-as.data.frame(matrix(nrow = nrow(Dataset_1_test),ncol = 1))\n",
    "for (i in 1:nrow(predictions)){\n",
    "  if (p1[i,1]>p1[i,2]) {predictions[i,1]=\"B\"\n",
    "  }\n",
    "  else {predictions[i,1]=\"M\"\n",
    "  }\n",
    "}\n",
    "tab<-table(predictions[,1],Dataset_1_test[,1])\n",
    "test_error<-1-sum(diag(tab)/sum(tab))\n",
    "print(c(\"test error:\",test_error))"
   ]
  },
  {
   "cell_type": "markdown",
   "metadata": {},
   "source": [
    "- Test error rates for the best model of each approach are given below:\n",
    "\n",
    "| Penalized Regression | Decision Tree | Random Forest | Stochastic Gradient Boosting |\n",
    "| --- | --- | --- | --- |\n",
    "| 0.0349999 | 0.095 | 0.059999 | 0.054999 |\n",
    "\n",
    "\n",
    "- According to these values, we can say that **penalized regression model** performs better compared to other models."
   ]
  }
 ],
 "metadata": {
  "kernelspec": {
   "display_name": "R",
   "language": "R",
   "name": "ir"
  },
  "language_info": {
   "codemirror_mode": "r",
   "file_extension": ".r",
   "mimetype": "text/x-r-source",
   "name": "R",
   "pygments_lexer": "r",
   "version": "3.6.1"
  }
 },
 "nbformat": 4,
 "nbformat_minor": 4
}
