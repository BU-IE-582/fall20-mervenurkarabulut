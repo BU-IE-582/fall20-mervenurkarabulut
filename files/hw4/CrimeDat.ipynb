{
 "cells": [
  {
   "cell_type": "markdown",
   "metadata": {},
   "source": [
    "# Communities and Crime Data Set\n",
    "\n",
    "Data Set Characteristics:Multivariate | Number of Instances:1994 | Area: Social | Attribute Characteristics: Real | Number of Attributes: 128 | Date Donated: 2009-07-13 | Associated Tasks:Regression | Missing Values: Yes\n",
    "\n",
    "**Data Set Information:**\n",
    "\n",
    "Many variables are included so that algorithms that select or learn weights for attributes could be tested. However, clearly unrelated attributes were not included; attributes were picked if there was any plausible connection to crime (N=122), plus the attribute to be predicted (Per Capita Violent Crimes). The variables included in the dataset involve the community, such as the percent of the population considered urban, and the median family income, and involving law enforcement, such as per capita number of police officers, and percent of officers assigned to drug units.\n",
    "\n",
    "The per capita violent crimes variable was calculated using population and the sum of crime variables considered violent crimes in the United States: murder, rape, robbery, and assault. There was apparently some controversy in some states concerning the counting of rapes. These resulted in missing values for rape, which resulted in incorrect values for per capita violent crime. These cities are not included in the dataset. Many of these omitted communities were from the midwestern USA.\n",
    "\n",
    "**Attribute Information**: (122 predictive, 5 non-predictive, 1 goal)"
   ]
  },
  {
   "cell_type": "code",
   "execution_count": 6,
   "metadata": {},
   "outputs": [
    {
     "name": "stderr",
     "output_type": "stream",
     "text": [
      "Warning message:\n",
      "\"package 'imputeTS' was built under R version 3.6.3\"Registered S3 method overwritten by 'quantmod':\n",
      "  method            from\n",
      "  as.zoo.data.frame zoo \n"
     ]
    }
   ],
   "source": [
    "library(\"data.table\")\n",
    "library(\"imputeTS\")"
   ]
  },
  {
   "cell_type": "code",
   "execution_count": 8,
   "metadata": {},
   "outputs": [
    {
     "name": "stdout",
     "output_type": "stream",
     "text": [
      "'data.frame':\t1994 obs. of  123 variables:\n",
      " $ Class: num  0.2 0.67 0.43 0.12 0.03 0.14 0.03 0.55 0.53 0.15 ...\n",
      " $ V6   : num  0.19 0 0 0.04 0.01 0.02 0.01 0.01 0.03 0.01 ...\n",
      " $ V7   : num  0.33 0.16 0.42 0.77 0.55 0.28 0.39 0.74 0.34 0.4 ...\n",
      " $ V8   : num  0.02 0.12 0.49 1 0.02 0.06 0 0.03 0.2 0.06 ...\n",
      " $ V9   : num  0.9 0.74 0.56 0.08 0.95 0.54 0.98 0.46 0.84 0.87 ...\n",
      " $ V10  : num  0.12 0.45 0.17 0.12 0.09 1 0.06 0.2 0.02 0.3 ...\n",
      " $ V11  : num  0.17 0.07 0.04 0.1 0.05 0.25 0.02 1 0 0.03 ...\n",
      " $ V12  : num  0.34 0.26 0.39 0.51 0.38 0.31 0.3 0.52 0.38 0.9 ...\n",
      " $ V13  : num  0.47 0.59 0.47 0.5 0.38 0.48 0.37 0.55 0.45 0.82 ...\n",
      " $ V14  : num  0.29 0.35 0.28 0.34 0.23 0.27 0.23 0.36 0.28 0.8 ...\n",
      " $ V15  : num  0.32 0.27 0.32 0.21 0.36 0.37 0.6 0.35 0.48 0.39 ...\n",
      " $ V16  : num  0.2 0.02 0 0.06 0.02 0.04 0.02 0 0.04 0.02 ...\n",
      " $ V17  : num  1 1 0 1 0.9 1 0.81 0 1 1 ...\n",
      " $ V18  : num  0.37 0.31 0.3 0.58 0.5 0.52 0.42 0.16 0.17 0.54 ...\n",
      " $ V19  : num  0.72 0.72 0.58 0.89 0.72 0.68 0.5 0.44 0.47 0.59 ...\n",
      " $ V20  : num  0.34 0.11 0.19 0.21 0.16 0.2 0.23 1 0.36 0.22 ...\n",
      " $ V21  : num  0.6 0.45 0.39 0.43 0.68 0.61 0.68 0.23 0.34 0.86 ...\n",
      " $ V22  : num  0.29 0.25 0.38 0.36 0.44 0.28 0.61 0.53 0.55 0.42 ...\n",
      " $ V23  : num  0.15 0.29 0.4 0.2 0.11 0.15 0.21 0.97 0.48 0.02 ...\n",
      " $ V24  : num  0.43 0.39 0.84 0.82 0.71 0.25 0.54 0.41 0.43 0.31 ...\n",
      " $ V25  : num  0.39 0.29 0.28 0.51 0.46 0.62 0.43 0.15 0.21 0.85 ...\n",
      " $ V26  : num  0.4 0.37 0.27 0.36 0.43 0.72 0.47 0.1 0.23 0.89 ...\n",
      " $ V27  : num  0.39 0.38 0.29 0.4 0.41 0.76 0.44 0.12 0.23 0.94 ...\n",
      " $ V28  : num  0.32 0.33 0.27 0.39 0.28 0.77 0.4 0.08 0.19 0.11 ...\n",
      " $ V29  : num  0.27 0.16 0.07 0.16 0 0.28 0.24 0.17 0.1 0.09 ...\n",
      " $ V30  : num  0.27 0.3 0.29 0.25 0.74 0.52 0.86 0.27 0.26 0.33 ...\n",
      " $ V31  : num  38 24 30 38 53 50 26 20 31 19 ...\n",
      " $ V32  : num  0.41 0.35 0.39 0.44 0.48 0.6 0.36 0.21 0.22 0.8 ...\n",
      " $ V33  : num  0.08 0.01 0.01 0.01 0 0.01 0.01 0.03 0.04 0 ...\n",
      " $ V34  : num  0.19 0.24 0.27 0.1 0.06 0.12 0.11 0.64 0.45 0.11 ...\n",
      " $ V35  : num  0.1 0.14 0.27 0.09 0.25 0.13 0.29 0.96 0.52 0.04 ...\n",
      " $ V36  : num  0.18 0.24 0.43 0.25 0.3 0.12 0.41 0.82 0.59 0.03 ...\n",
      " $ V37  : num  0.48 0.3 0.19 0.31 0.33 0.8 0.36 0.12 0.17 1 ...\n",
      " $ V38  : num  0.27 0.27 0.36 0.33 0.12 0.1 0.28 1 0.55 0.11 ...\n",
      " $ V39  : num  0.68 0.73 0.58 0.71 0.65 0.65 0.54 0.26 0.43 0.44 ...\n",
      " $ V40  : num  0.23 0.57 0.32 0.36 0.67 0.19 0.44 0.43 0.59 0.2 ...\n",
      " $ V41  : num  0.41 0.15 0.29 0.45 0.38 0.77 0.53 0.34 0.36 1 ...\n",
      " $ V42  : num  0.25 0.42 0.49 0.37 0.42 0.06 0.33 0.71 0.64 0.02 ...\n",
      " $ V43  : num  0.52 0.36 0.32 0.39 0.46 0.91 0.49 0.18 0.29 0.96 ...\n",
      " $ V44  : num  0.68 1 0.63 0.34 0.22 0.49 0.25 0.38 0.62 0.3 ...\n",
      " $ V45  : num  0.4 0.63 0.41 0.45 0.27 0.57 0.34 0.47 0.26 0.85 ...\n",
      " $ V46  : num  0.75 0.91 0.71 0.49 0.2 0.61 0.28 0.59 0.66 0.39 ...\n",
      " $ V47  : num  0.75 1 0.7 0.44 0.21 0.58 0.28 0.52 0.67 0.36 ...\n",
      " $ V48  : num  0.35 0.29 0.45 0.75 0.51 0.44 0.42 0.78 0.37 0.31 ...\n",
      " $ V49  : num  0.55 0.43 0.42 0.65 0.91 0.62 0.77 0.45 0.51 0.65 ...\n",
      " $ V50  : num  0.59 0.47 0.44 0.54 0.91 0.69 0.81 0.43 0.55 0.73 ...\n",
      " $ V51  : num  0.61 0.6 0.43 0.83 0.89 0.87 0.79 0.34 0.58 0.78 ...\n",
      " $ V52  : num  0.56 0.39 0.43 0.65 0.85 0.53 0.74 0.34 0.47 0.67 ...\n",
      " $ V53  : num  0.74 0.46 0.71 0.85 0.4 0.3 0.57 0.29 0.65 0.72 ...\n",
      " $ V54  : num  0.76 0.53 0.67 0.86 0.6 0.43 0.62 0.27 0.64 0.71 ...\n",
      " $ V55  : num  0.04 0 0.01 0.03 0 0 0 0.02 0.02 0 ...\n",
      " $ V56  : num  0.14 0.24 0.46 0.33 0.06 0.11 0.13 0.5 0.29 0.07 ...\n",
      " $ V57  : num  0.03 0.01 0 0.02 0 0.04 0.01 0.02 0 0.01 ...\n",
      " $ V58  : num  0.24 0.52 0.07 0.11 0.03 0.3 0 0.5 0.12 0.41 ...\n",
      " $ V59  : num  0.27 0.62 0.06 0.2 0.07 0.35 0.02 0.59 0.09 0.44 ...\n",
      " $ V60  : num  0.37 0.64 0.15 0.3 0.2 0.43 0.02 0.65 0.07 0.52 ...\n",
      " $ V61  : num  0.39 0.63 0.19 0.31 0.27 0.47 0.1 0.59 0.13 0.48 ...\n",
      " $ V62  : num  0.07 0.25 0.02 0.05 0.01 0.5 0 0.69 0 0.22 ...\n",
      " $ V63  : num  0.07 0.27 0.02 0.08 0.02 0.5 0.01 0.72 0 0.21 ...\n",
      " $ V64  : num  0.08 0.25 0.04 0.11 0.04 0.56 0.01 0.71 0 0.22 ...\n",
      " $ V65  : num  0.08 0.23 0.05 0.11 0.05 0.57 0.03 0.6 0 0.19 ...\n",
      " $ V66  : num  0.89 0.84 0.88 0.81 0.88 0.45 0.73 0.12 0.99 0.85 ...\n",
      " $ V67  : num  0.06 0.1 0.04 0.08 0.05 0.28 0.05 0.93 0.01 0.03 ...\n",
      " $ V68  : num  0.14 0.16 0.2 0.56 0.16 0.25 0.12 0.74 0.12 0.09 ...\n",
      " $ V69  : num  0.13 0.1 0.2 0.62 0.19 0.19 0.13 0.75 0.12 0.06 ...\n",
      " $ V70  : num  0.33 0.17 0.46 0.85 0.59 0.29 0.42 0.8 0.35 0.15 ...\n",
      " $ V71  : num  0.39 0.29 0.52 0.77 0.6 0.53 0.54 0.68 0.38 0.34 ...\n",
      " $ V72  : num  0.28 0.17 0.43 1 0.37 0.18 0.24 0.92 0.33 0.05 ...\n",
      " $ V73  : num  0.55 0.26 0.42 0.94 0.89 0.39 0.65 0.39 0.5 0.48 ...\n",
      " $ V74  : num  0.09 0.2 0.15 0.12 0.02 0.26 0.03 0.89 0.1 0.03 ...\n",
      " $ V75  : num  0.51 0.82 0.51 0.01 0.19 0.73 0.46 0.66 0.64 0.58 ...\n",
      " $ V76  : num  0.5 0 0.5 0.5 0.5 0 0.5 0 0 0 ...\n",
      " $ V77  : num  0.21 0.02 0.01 0.01 0.01 0.02 0.01 0.01 0.04 0.02 ...\n",
      " $ V78  : num  0.71 0.79 0.86 0.97 0.89 0.84 0.89 0.91 0.72 0.72 ...\n",
      " $ V79  : num  0.52 0.24 0.41 0.96 0.87 0.3 0.57 0.46 0.49 0.38 ...\n",
      " $ V80  : num  0.05 0.02 0.29 0.6 0.04 0.16 0.09 0.22 0.05 0.07 ...\n",
      " $ V81  : num  0.26 0.25 0.3 0.47 0.55 0.28 0.49 0.37 0.49 0.47 ...\n",
      " $ V82  : num  0.65 0.65 0.52 0.52 0.73 0.25 0.38 0.6 0.5 0.04 ...\n",
      " $ V83  : num  0.14 0.16 0.47 0.11 0.05 0.02 0.05 0.28 0.57 0.01 ...\n",
      " $ V84  : num  0.06 0 0.45 0.11 0.14 0.05 0.05 0.23 0.22 0 ...\n",
      " $ V85  : num  0.22 0.21 0.18 0.24 0.31 0.94 0.37 0.15 0.07 0.63 ...\n",
      " $ V86  : num  0.19 0.2 0.17 0.21 0.31 1 0.38 0.13 0.07 0.71 ...\n",
      " $ V87  : num  0.18 0.21 0.16 0.19 0.3 1 0.39 0.13 0.08 0.79 ...\n",
      " $ V88  : num  0.36 0.42 0.27 0.75 0.4 0.67 0.26 0.21 0.14 0.44 ...\n",
      " $ V89  : num  0.35 0.38 0.29 0.7 0.36 0.63 0.35 0.24 0.17 0.42 ...\n",
      " $ V90  : num  0.38 0.4 0.27 0.77 0.38 0.68 0.42 0.25 0.16 0.47 ...\n",
      " $ V91  : num  0.34 0.37 0.31 0.89 0.38 0.62 0.35 0.24 0.15 0.41 ...\n",
      " $ V92  : num  0.38 0.29 0.48 0.63 0.22 0.47 0.46 0.64 0.38 0.23 ...\n",
      " $ V93  : num  0.46 0.32 0.39 0.51 0.51 0.59 0.44 0.59 0.13 0.27 ...\n",
      " $ V94  : num  0.25 0.18 0.28 0.47 0.21 0.11 0.31 0.28 0.36 0.28 ...\n",
      " $ V95  : num  0.04 0 0 0 0 0 0 0 0.01 0 ...\n",
      " $ V96  : num  0 0 0 0 0 0 0 0 0 0 ...\n",
      " $ V97  : num  0.12 0.21 0.14 0.19 0.11 0.7 0.15 0.59 0.01 0.22 ...\n",
      " $ V98  : num  0.42 0.5 0.49 0.3 0.72 0.42 0.81 0.58 0.78 0.42 ...\n",
      " $ V99  : num  0.5 0.34 0.54 0.73 0.64 0.49 0.77 0.52 0.48 0.34 ...\n",
      " $ V100 : num  0.51 0.6 0.67 0.64 0.61 0.73 0.91 0.79 0.79 0.23 ...\n",
      " $ V101 : num  0.64 0.52 0.56 0.65 0.53 0.64 0.84 0.78 0.75 0.09 ...\n",
      " $ V102 : num  5 1 1 1 1 1 1 1 1 1 ...\n",
      " $ V103 : num  14 1 1 1 1 1 1 1 1 1 ...\n",
      "  [list output truncated]\n"
     ]
    }
   ],
   "source": [
    "# input reading\n",
    "setwd(\"C:/IE582\")\n",
    "\n",
    "crimedat <- data.table(read.table(\"communities.data\",sep=\",\"))\n",
    "crimedat[,1:5]<-NULL ##removing state and county names\n",
    "crimedat=crimedat[ ,lapply(.SD, na_mean)] ##replacing NA's with column means\n",
    "crimedat=data.frame(data.matrix(crimedat))\n",
    "crime_response<-crimedat[,123]\n",
    "crimedat[,123]=NULL\n",
    "crimedat<-cbind(crime_response,crimedat)\n",
    "colnames(crimedat)[1]=\"Class\"\n",
    "crimetrain=crimedat[1:1400,]\n",
    "crimetest=crimedat[1401:1994,]\n",
    "\n",
    "str(crimedat)"
   ]
  },
  {
   "cell_type": "markdown",
   "metadata": {},
   "source": [
    "## Penalized Regression\n",
    "\n",
    "In the penalized regression approach, cross validation is used on the train data to find the best value of the lambda and it is found after 10 fold cross validation. Then with this lambda a model is built to predict the class value."
   ]
  },
  {
   "cell_type": "code",
   "execution_count": 9,
   "metadata": {},
   "outputs": [
    {
     "name": "stderr",
     "output_type": "stream",
     "text": [
      "Warning message:\n",
      "\"package 'glmnet' was built under R version 3.6.3\"Loading required package: Matrix\n",
      "Loaded glmnet 4.1\n",
      "\n",
      "Attaching package: 'glmnet'\n",
      "\n",
      "The following object is masked from 'package:imputeTS':\n",
      "\n",
      "    na.replace\n",
      "\n"
     ]
    }
   ],
   "source": [
    "library(glmnet)"
   ]
  },
  {
   "cell_type": "code",
   "execution_count": 10,
   "metadata": {},
   "outputs": [
    {
     "data": {
      "image/png": "[encoded data removed]",
      "text/plain": [
       "plot without title"
      ]
     },
     "metadata": {},
     "output_type": "display_data"
    }
   ],
   "source": [
    "new_train<-as.matrix(crimetrain[,-1])\n",
    "new_test<-as.matrix(crimetest[,-1])\n",
    "\n",
    "cross_validation<-cv.glmnet(new_train,as.matrix(crimetrain$Class) ,family=\"gaussian\", alpha=1)\n",
    "options(repr.plot.width=5, repr.plot.height=5)\n",
    "plot(cross_validation)"
   ]
  },
  {
   "cell_type": "code",
   "execution_count": 11,
   "metadata": {},
   "outputs": [
    {
     "name": "stdout",
     "output_type": "stream",
     "text": [
      "[1] \"min lambda: \"        \"0.00224450441129142\"\n"
     ]
    }
   ],
   "source": [
    "print(c(\"min lambda: \",cross_validation$lambda.min))"
   ]
  },
  {
   "cell_type": "markdown",
   "metadata": {},
   "source": [
    "- **The best lambda value is found as 0.0022445.**"
   ]
  },
  {
   "cell_type": "code",
   "execution_count": 12,
   "metadata": {},
   "outputs": [
    {
     "data": {
      "text/plain": [
       "          Length Class     Mode   \n",
       "a0          1    -none-    numeric\n",
       "beta      122    dgCMatrix S4     \n",
       "df          1    -none-    numeric\n",
       "dim         2    -none-    numeric\n",
       "lambda      1    -none-    numeric\n",
       "dev.ratio   1    -none-    numeric\n",
       "nulldev     1    -none-    numeric\n",
       "npasses     1    -none-    numeric\n",
       "jerr        1    -none-    numeric\n",
       "offset      1    -none-    logical\n",
       "call        6    -none-    call   \n",
       "nobs        1    -none-    numeric"
      ]
     },
     "metadata": {},
     "output_type": "display_data"
    }
   ],
   "source": [
    "# model construction\n",
    "fit <- glmnet(new_train,as.matrix(crimetrain$Class),family=\"gaussian\", alpha=1,lambda=cross_validation$lambda.min)\n",
    "summary(fit)"
   ]
  },
  {
   "cell_type": "code",
   "execution_count": 13,
   "metadata": {},
   "outputs": [
    {
     "name": "stdout",
     "output_type": "stream",
     "text": [
      "[1] \"coefficient of determination (train):\"\n",
      "[2] \"0.681827284364843\"                    \n"
     ]
    }
   ],
   "source": [
    "# predictions for train data\n",
    "predictions <- predict(fit, new_train)\n",
    "# accuracy for train data\n",
    "outcome<-cbind(crimetrain$Class, data.frame(predictions))\n",
    "rss <- sum((outcome[,2] - outcome[,1]) ^ 2)  ## residual sum of squares\n",
    "tss <- sum((outcome[,1] - mean(outcome[,1])) ^ 2)  ## total sum of squares\n",
    "rsq <- 1 - rss/tss\n",
    "print(c(\"coefficient of determination (train):\",rsq))"
   ]
  },
  {
   "cell_type": "code",
   "execution_count": 15,
   "metadata": {},
   "outputs": [
    {
     "name": "stdout",
     "output_type": "stream",
     "text": [
      "[1] \"coefficient of determination (train):\"\n",
      "[2] \"0.636191760427338\"                    \n"
     ]
    }
   ],
   "source": [
    "# predictions for test data\n",
    "predictions <- predict(fit, new_test)\n",
    "# summarize accuracy for test data\n",
    "outcome<-cbind(crimetest$Class, data.frame(predictions))\n",
    "rss <- sum((outcome[,2] - outcome[,1]) ^ 2)  ## residual sum of squares\n",
    "tss <- sum((outcome[,1] - mean(outcome[,1])) ^ 2)  ## total sum of squares\n",
    "rsq <- 1 - rss/tss\n",
    "print(c(\"coefficient of determination (train):\",rsq))"
   ]
  },
  {
   "cell_type": "markdown",
   "metadata": {},
   "source": [
    "- $R^2$ values for train and test data are 0.681827 and 0.636192, respectively."
   ]
  },
  {
   "cell_type": "markdown",
   "metadata": {},
   "source": [
    "## Decision Tree\n",
    "\n",
    "In decision tree approach, for **the minimal number of observations per tree leaf** 2,3,4 and 5 are used; for **the complexity parameter** 0.005, 0.01, 0.015 and 0.02 are used."
   ]
  },
  {
   "cell_type": "code",
   "execution_count": 17,
   "metadata": {},
   "outputs": [],
   "source": [
    "library(rpart)\n",
    "set.seed(105)\n",
    "\n",
    "decision_tree <- function(i){\n",
    "    dtree1<-rpart(Class~.,data = crimetrain,control = rpart.control(minbucket = 2+i,cp=0.005*i),method = \"anova\")\n",
    "    require(rpart.plot)\n",
    "    rpart.plot(dtree1,type = 3,digits = 3,fallen.leaves = TRUE)\n",
    "  \n",
    "    predictions<-predict(dtree1,crimetest)\n",
    "    outcome<-cbind(crimetest$Class, data.frame(predictions))\n",
    "    rss <- sum((outcome[,2] - outcome[,1]) ^ 2)  ## residual sum of squares\n",
    "    tss <- sum((outcome[,1] - mean(outcome[,1])) ^ 2)  ## total sum of squares\n",
    "    rsq <- 1 - rss/tss\n",
    "    print(c(\"coefficient of determination:\",rsq))\n",
    "    \n",
    "    plotcp(dtree1)\n",
    "    return(rsq)\n",
    "}  "
   ]
  },
  {
   "cell_type": "code",
   "execution_count": 18,
   "metadata": {},
   "outputs": [],
   "source": [
    "coffs = list()"
   ]
  },
  {
   "cell_type": "code",
   "execution_count": 19,
   "metadata": {},
   "outputs": [
    {
     "name": "stderr",
     "output_type": "stream",
     "text": [
      "Loading required package: rpart.plot\n",
      "Warning message:\n",
      "\"package 'rpart.plot' was built under R version 3.6.3\""
     ]
    },
    {
     "name": "stdout",
     "output_type": "stream",
     "text": [
      "[1] \"coefficient of determination:\" \"0.508236421892215\"            \n"
     ]
    },
    {
     "data": {
      "image/png": "[encoded data removed]",
      "text/plain": [
       "plot without title"
      ]
     },
     "metadata": {},
     "output_type": "display_data"
    },
    {
     "data": {
      "image/png": "[encoded data removed]",
      "text/plain": [
       "plot without title"
      ]
     },
     "metadata": {},
     "output_type": "display_data"
    }
   ],
   "source": [
    "c = decision_tree(1)\n",
    "coffs = append(coffs,c)"
   ]
  },
  {
   "cell_type": "code",
   "execution_count": 20,
   "metadata": {},
   "outputs": [
    {
     "name": "stdout",
     "output_type": "stream",
     "text": [
      "[1] \"coefficient of determination:\" \"0.559448930259813\"            \n"
     ]
    },
    {
     "data": {
      "image/png": "[encoded data removed]",
      "text/plain": [
       "plot without title"
      ]
     },
     "metadata": {},
     "output_type": "display_data"
    },
    {
     "data": {
      "image/png": "[encoded data removed]",
      "text/plain": [
       "plot without title"
      ]
     },
     "metadata": {},
     "output_type": "display_data"
    }
   ],
   "source": [
    "c = decision_tree(2)\n",
    "coffs = append(coffs,c)"
   ]
  },
  {
   "cell_type": "code",
   "execution_count": 21,
   "metadata": {},
   "outputs": [
    {
     "name": "stdout",
     "output_type": "stream",
     "text": [
      "[1] \"coefficient of determination:\" \"0.541027676814469\"            \n"
     ]
    },
    {
     "data": {
      "image/png": "[encoded data removed]",
      "text/plain": [
       "plot without title"
      ]
     },
     "metadata": {},
     "output_type": "display_data"
    },
    {
     "data": {
      "image/png": "[encoded data removed]",
      "text/plain": [
       "plot without title"
      ]
     },
     "metadata": {},
     "output_type": "display_data"
    }
   ],
   "source": [
    "c = decision_tree(3)\n",
    "coffs = append(coffs,c)"
   ]
  },
  {
   "cell_type": "code",
   "execution_count": 22,
   "metadata": {},
   "outputs": [
    {
     "name": "stdout",
     "output_type": "stream",
     "text": [
      "[1] \"coefficient of determination:\" \"0.541027676814469\"            \n"
     ]
    },
    {
     "data": {
      "image/png": "[encoded data removed]",
      "text/plain": [
       "plot without title"
      ]
     },
     "metadata": {},
     "output_type": "display_data"
    },
    {
     "data": {
      "image/png": "[encoded data removed]",
      "text/plain": [
       "plot without title"
      ]
     },
     "metadata": {},
     "output_type": "display_data"
    }
   ],
   "source": [
    "c = decision_tree(4)\n",
    "coffs = append(coffs,c)"
   ]
  },
  {
   "cell_type": "code",
   "execution_count": 23,
   "metadata": {},
   "outputs": [
    {
     "data": {
      "text/html": [
       "<ol>\n",
       "\t<li>0.508236421892215</li>\n",
       "\t<li>0.559448930259813</li>\n",
       "\t<li>0.541027676814469</li>\n",
       "\t<li>0.541027676814469</li>\n",
       "</ol>\n"
      ],
      "text/latex": [
       "\\begin{enumerate}\n",
       "\\item 0.508236421892215\n",
       "\\item 0.559448930259813\n",
       "\\item 0.541027676814469\n",
       "\\item 0.541027676814469\n",
       "\\end{enumerate}\n"
      ],
      "text/markdown": [
       "1. 0.508236421892215\n",
       "2. 0.559448930259813\n",
       "3. 0.541027676814469\n",
       "4. 0.541027676814469\n",
       "\n",
       "\n"
      ],
      "text/plain": [
       "[[1]]\n",
       "[1] 0.5082364\n",
       "\n",
       "[[2]]\n",
       "[1] 0.5594489\n",
       "\n",
       "[[3]]\n",
       "[1] 0.5410277\n",
       "\n",
       "[[4]]\n",
       "[1] 0.5410277\n"
      ]
     },
     "metadata": {},
     "output_type": "display_data"
    }
   ],
   "source": [
    "coffs"
   ]
  },
  {
   "cell_type": "markdown",
   "metadata": {},
   "source": [
    "- Comparing the models considering the coefficient of determination, the best model is found with **the minimal number of observations per tree leaf as 4** and **the complexity parameter as 0.01** and its coefficient of determination is *0.559449*."
   ]
  },
  {
   "cell_type": "markdown",
   "metadata": {},
   "source": [
    "## Random Forest\n",
    "\n",
    "In random forest approach, J trees are fit to bootstrap samples using a random sample of m features on which to split each\n",
    "node. I used (11,12,13,14,15) as m in each iteration to find the best value."
   ]
  },
  {
   "cell_type": "code",
   "execution_count": 24,
   "metadata": {},
   "outputs": [
    {
     "name": "stderr",
     "output_type": "stream",
     "text": [
      "Loading required package: randomForest\n",
      "Warning message:\n",
      "\"package 'randomForest' was built under R version 3.6.3\"randomForest 4.6-14\n",
      "Type rfNews() to see new features/changes/bug fixes.\n",
      "Warning message:\n",
      "\"package 'cowplot' was built under R version 3.6.3\""
     ]
    }
   ],
   "source": [
    "require(randomForest)\n",
    "library(cowplot)"
   ]
  },
  {
   "cell_type": "code",
   "execution_count": 25,
   "metadata": {},
   "outputs": [],
   "source": [
    "set.seed(105)\n",
    "\n",
    "random_forest <- function(i){\n",
    "    model<-randomForest(Class~.,data=crimetrain,proximity=TRUE,mtry=10+i)\n",
    "    print(model)\n",
    "    \n",
    "    predictions<-predict(model,crimetest)\n",
    "    outcome<-cbind(crimetest$Class, data.frame(predictions))\n",
    "    rss <- sum((outcome[,2] - outcome[,1]) ^ 2)  ## residual sum of squares\n",
    "    tss <- sum((outcome[,1] - mean(outcome[,1])) ^ 2)  ## total sum of squares\n",
    "    rsq <- 1 - rss/tss\n",
    "    print(c(\"coefficient of determination:\",rsq))\n",
    "    \n",
    "    return(rsq)\n",
    "}"
   ]
  },
  {
   "cell_type": "code",
   "execution_count": 26,
   "metadata": {},
   "outputs": [],
   "source": [
    "err <- list()"
   ]
  },
  {
   "cell_type": "code",
   "execution_count": 27,
   "metadata": {},
   "outputs": [
    {
     "name": "stdout",
     "output_type": "stream",
     "text": [
      "\n",
      "Call:\n",
      " randomForest(formula = Class ~ ., data = crimetrain, proximity = TRUE,      mtry = 10 + i) \n",
      "               Type of random forest: regression\n",
      "                     Number of trees: 500\n",
      "No. of variables tried at each split: 11\n",
      "\n",
      "          Mean of squared residuals: 0.01987709\n",
      "                    % Var explained: 65.51\n",
      "[1] \"coefficient of determination:\" \"0.661396804364963\"            \n"
     ]
    }
   ],
   "source": [
    "e = random_forest(1)\n",
    "err = append(err,e)"
   ]
  },
  {
   "cell_type": "code",
   "execution_count": 28,
   "metadata": {},
   "outputs": [
    {
     "name": "stdout",
     "output_type": "stream",
     "text": [
      "\n",
      "Call:\n",
      " randomForest(formula = Class ~ ., data = crimetrain, proximity = TRUE,      mtry = 10 + i) \n",
      "               Type of random forest: regression\n",
      "                     Number of trees: 500\n",
      "No. of variables tried at each split: 12\n",
      "\n",
      "          Mean of squared residuals: 0.01991597\n",
      "                    % Var explained: 65.45\n",
      "[1] \"coefficient of determination:\" \"0.664359772182272\"            \n"
     ]
    }
   ],
   "source": [
    "e = random_forest(2)\n",
    "err = append(err,e)"
   ]
  },
  {
   "cell_type": "code",
   "execution_count": 29,
   "metadata": {},
   "outputs": [
    {
     "name": "stdout",
     "output_type": "stream",
     "text": [
      "\n",
      "Call:\n",
      " randomForest(formula = Class ~ ., data = crimetrain, proximity = TRUE,      mtry = 10 + i) \n",
      "               Type of random forest: regression\n",
      "                     Number of trees: 500\n",
      "No. of variables tried at each split: 13\n",
      "\n",
      "          Mean of squared residuals: 0.01971767\n",
      "                    % Var explained: 65.79\n",
      "[1] \"coefficient of determination:\" \"0.660013666209761\"            \n"
     ]
    }
   ],
   "source": [
    "e = random_forest(3)\n",
    "err = append(err,e)"
   ]
  },
  {
   "cell_type": "code",
   "execution_count": 30,
   "metadata": {},
   "outputs": [
    {
     "name": "stdout",
     "output_type": "stream",
     "text": [
      "\n",
      "Call:\n",
      " randomForest(formula = Class ~ ., data = crimetrain, proximity = TRUE,      mtry = 10 + i) \n",
      "               Type of random forest: regression\n",
      "                     Number of trees: 500\n",
      "No. of variables tried at each split: 14\n",
      "\n",
      "          Mean of squared residuals: 0.01980545\n",
      "                    % Var explained: 65.64\n",
      "[1] \"coefficient of determination:\" \"0.662374874477233\"            \n"
     ]
    }
   ],
   "source": [
    "e = random_forest(4)\n",
    "err = append(err,e)"
   ]
  },
  {
   "cell_type": "code",
   "execution_count": 31,
   "metadata": {},
   "outputs": [
    {
     "name": "stdout",
     "output_type": "stream",
     "text": [
      "\n",
      "Call:\n",
      " randomForest(formula = Class ~ ., data = crimetrain, proximity = TRUE,      mtry = 10 + i) \n",
      "               Type of random forest: regression\n",
      "                     Number of trees: 500\n",
      "No. of variables tried at each split: 15\n",
      "\n",
      "          Mean of squared residuals: 0.01975825\n",
      "                    % Var explained: 65.72\n",
      "[1] \"coefficient of determination:\" \"0.66453127538367\"             \n"
     ]
    }
   ],
   "source": [
    "e = random_forest(5)\n",
    "err = append(err,e)"
   ]
  },
  {
   "cell_type": "code",
   "execution_count": 32,
   "metadata": {},
   "outputs": [
    {
     "data": {
      "text/html": [
       "<ol>\n",
       "\t<li>0.661396804364963</li>\n",
       "\t<li>0.664359772182272</li>\n",
       "\t<li>0.660013666209761</li>\n",
       "\t<li>0.662374874477233</li>\n",
       "\t<li>0.66453127538367</li>\n",
       "</ol>\n"
      ],
      "text/latex": [
       "\\begin{enumerate}\n",
       "\\item 0.661396804364963\n",
       "\\item 0.664359772182272\n",
       "\\item 0.660013666209761\n",
       "\\item 0.662374874477233\n",
       "\\item 0.66453127538367\n",
       "\\end{enumerate}\n"
      ],
      "text/markdown": [
       "1. 0.661396804364963\n",
       "2. 0.664359772182272\n",
       "3. 0.660013666209761\n",
       "4. 0.662374874477233\n",
       "5. 0.66453127538367\n",
       "\n",
       "\n"
      ],
      "text/plain": [
       "[[1]]\n",
       "[1] 0.6613968\n",
       "\n",
       "[[2]]\n",
       "[1] 0.6643598\n",
       "\n",
       "[[3]]\n",
       "[1] 0.6600137\n",
       "\n",
       "[[4]]\n",
       "[1] 0.6623749\n",
       "\n",
       "[[5]]\n",
       "[1] 0.6645313\n"
      ]
     },
     "metadata": {},
     "output_type": "display_data"
    }
   ],
   "source": [
    "err"
   ]
  },
  {
   "cell_type": "markdown",
   "metadata": {},
   "source": [
    "- All $R^2$ values are almost equal, but slightly the fifth model which has m value of 15 is better than others."
   ]
  },
  {
   "cell_type": "markdown",
   "metadata": {},
   "source": [
    "## Stochastic Gradient Boosting\n"
   ]
  },
  {
   "cell_type": "code",
   "execution_count": 33,
   "metadata": {
    "scrolled": true
   },
   "outputs": [
    {
     "name": "stderr",
     "output_type": "stream",
     "text": [
      "Warning message:\n",
      "\"package 'caret' was built under R version 3.6.3\"Loading required package: lattice\n",
      "Warning message:\n",
      "\"package 'lattice' was built under R version 3.6.3\"Loading required package: ggplot2\n",
      "Warning message:\n",
      "\"package 'ggplot2' was built under R version 3.6.3\"\n",
      "Attaching package: 'ggplot2'\n",
      "\n",
      "The following object is masked from 'package:randomForest':\n",
      "\n",
      "    margin\n",
      "\n",
      "Loading required package: gbm\n",
      "Warning message:\n",
      "\"package 'gbm' was built under R version 3.6.3\"Loaded gbm 2.1.8\n"
     ]
    }
   ],
   "source": [
    "library(caret)\n",
    "require(gbm)"
   ]
  },
  {
   "cell_type": "code",
   "execution_count": 34,
   "metadata": {
    "scrolled": false
   },
   "outputs": [
    {
     "data": {
      "text/html": [
       "<table>\n",
       "<thead><tr><th></th><th scope=col>var</th><th scope=col>rel.inf</th></tr></thead>\n",
       "<tbody>\n",
       "\t<tr><th scope=row>V50</th><td>V50       </td><td>26.5039975</td></tr>\n",
       "\t<tr><th scope=row>V56</th><td>V56       </td><td>18.1225030</td></tr>\n",
       "\t<tr><th scope=row>V9</th><td>V9        </td><td>11.6423778</td></tr>\n",
       "\t<tr><th scope=row>V55</th><td>V55       </td><td>10.8671952</td></tr>\n",
       "\t<tr><th scope=row>V49</th><td>V49       </td><td> 5.3573688</td></tr>\n",
       "\t<tr><th scope=row>V74</th><td>V74       </td><td> 4.8588777</td></tr>\n",
       "\t<tr><th scope=row>V46</th><td>V46       </td><td> 3.7164739</td></tr>\n",
       "\t<tr><th scope=row>V75</th><td>V75       </td><td> 2.5809681</td></tr>\n",
       "\t<tr><th scope=row>V77</th><td>V77       </td><td> 2.1282643</td></tr>\n",
       "\t<tr><th scope=row>V96</th><td>V96       </td><td> 1.9598227</td></tr>\n",
       "\t<tr><th scope=row>V21</th><td>V21       </td><td> 1.7681326</td></tr>\n",
       "\t<tr><th scope=row>V47</th><td>V47       </td><td> 1.6609712</td></tr>\n",
       "\t<tr><th scope=row>V80</th><td>V80       </td><td> 1.0029203</td></tr>\n",
       "\t<tr><th scope=row>V52</th><td>V52       </td><td> 0.9028357</td></tr>\n",
       "\t<tr><th scope=row>V8</th><td>V8        </td><td> 0.8403268</td></tr>\n",
       "\t<tr><th scope=row>V44</th><td>V44       </td><td> 0.6798236</td></tr>\n",
       "\t<tr><th scope=row>V120</th><td>V120      </td><td> 0.6059203</td></tr>\n",
       "\t<tr><th scope=row>V78</th><td>V78       </td><td> 0.5309821</td></tr>\n",
       "\t<tr><th scope=row>V34</th><td>V34       </td><td> 0.5120084</td></tr>\n",
       "\t<tr><th scope=row>V89</th><td>V89       </td><td> 0.3634746</td></tr>\n",
       "\t<tr><th scope=row>V107</th><td>V107      </td><td> 0.3340074</td></tr>\n",
       "\t<tr><th scope=row>V42</th><td>V42       </td><td> 0.3318151</td></tr>\n",
       "\t<tr><th scope=row>V35</th><td>V35       </td><td> 0.3213892</td></tr>\n",
       "\t<tr><th scope=row>V122</th><td>V122      </td><td> 0.2914460</td></tr>\n",
       "\t<tr><th scope=row>V93</th><td>V93       </td><td> 0.2408581</td></tr>\n",
       "\t<tr><th scope=row>V51</th><td>V51       </td><td> 0.1766465</td></tr>\n",
       "\t<tr><th scope=row>V26</th><td>V26       </td><td> 0.1715383</td></tr>\n",
       "\t<tr><th scope=row>V32</th><td>V32       </td><td> 0.1693070</td></tr>\n",
       "\t<tr><th scope=row>V108</th><td>V108      </td><td> 0.1691726</td></tr>\n",
       "\t<tr><th scope=row>V66</th><td>V66       </td><td> 0.1529632</td></tr>\n",
       "\t<tr><th scope=row>...</th><td>...</td><td>...</td></tr>\n",
       "\t<tr><th scope=row>V90</th><td>V90 </td><td>0   </td></tr>\n",
       "\t<tr><th scope=row>V91</th><td>V91 </td><td>0   </td></tr>\n",
       "\t<tr><th scope=row>V92</th><td>V92 </td><td>0   </td></tr>\n",
       "\t<tr><th scope=row>V94</th><td>V94 </td><td>0   </td></tr>\n",
       "\t<tr><th scope=row>V95</th><td>V95 </td><td>0   </td></tr>\n",
       "\t<tr><th scope=row>V98</th><td>V98 </td><td>0   </td></tr>\n",
       "\t<tr><th scope=row>V99</th><td>V99 </td><td>0   </td></tr>\n",
       "\t<tr><th scope=row>V101</th><td>V101</td><td>0   </td></tr>\n",
       "\t<tr><th scope=row>V102</th><td>V102</td><td>0   </td></tr>\n",
       "\t<tr><th scope=row>V103</th><td>V103</td><td>0   </td></tr>\n",
       "\t<tr><th scope=row>V104</th><td>V104</td><td>0   </td></tr>\n",
       "\t<tr><th scope=row>V105</th><td>V105</td><td>0   </td></tr>\n",
       "\t<tr><th scope=row>V106</th><td>V106</td><td>0   </td></tr>\n",
       "\t<tr><th scope=row>V109</th><td>V109</td><td>0   </td></tr>\n",
       "\t<tr><th scope=row>V110</th><td>V110</td><td>0   </td></tr>\n",
       "\t<tr><th scope=row>V111</th><td>V111</td><td>0   </td></tr>\n",
       "\t<tr><th scope=row>V112</th><td>V112</td><td>0   </td></tr>\n",
       "\t<tr><th scope=row>V113</th><td>V113</td><td>0   </td></tr>\n",
       "\t<tr><th scope=row>V114</th><td>V114</td><td>0   </td></tr>\n",
       "\t<tr><th scope=row>V115</th><td>V115</td><td>0   </td></tr>\n",
       "\t<tr><th scope=row>V116</th><td>V116</td><td>0   </td></tr>\n",
       "\t<tr><th scope=row>V117</th><td>V117</td><td>0   </td></tr>\n",
       "\t<tr><th scope=row>V118</th><td>V118</td><td>0   </td></tr>\n",
       "\t<tr><th scope=row>V119</th><td>V119</td><td>0   </td></tr>\n",
       "\t<tr><th scope=row>V121</th><td>V121</td><td>0   </td></tr>\n",
       "\t<tr><th scope=row>V123</th><td>V123</td><td>0   </td></tr>\n",
       "\t<tr><th scope=row>V124</th><td>V124</td><td>0   </td></tr>\n",
       "\t<tr><th scope=row>V125</th><td>V125</td><td>0   </td></tr>\n",
       "\t<tr><th scope=row>V126</th><td>V126</td><td>0   </td></tr>\n",
       "\t<tr><th scope=row>V127</th><td>V127</td><td>0   </td></tr>\n",
       "</tbody>\n",
       "</table>\n"
      ],
      "text/latex": [
       "\\begin{tabular}{r|ll}\n",
       "  & var & rel.inf\\\\\n",
       "\\hline\n",
       "\tV50 & V50        & 26.5039975\\\\\n",
       "\tV56 & V56        & 18.1225030\\\\\n",
       "\tV9 & V9         & 11.6423778\\\\\n",
       "\tV55 & V55        & 10.8671952\\\\\n",
       "\tV49 & V49        &  5.3573688\\\\\n",
       "\tV74 & V74        &  4.8588777\\\\\n",
       "\tV46 & V46        &  3.7164739\\\\\n",
       "\tV75 & V75        &  2.5809681\\\\\n",
       "\tV77 & V77        &  2.1282643\\\\\n",
       "\tV96 & V96        &  1.9598227\\\\\n",
       "\tV21 & V21        &  1.7681326\\\\\n",
       "\tV47 & V47        &  1.6609712\\\\\n",
       "\tV80 & V80        &  1.0029203\\\\\n",
       "\tV52 & V52        &  0.9028357\\\\\n",
       "\tV8 & V8         &  0.8403268\\\\\n",
       "\tV44 & V44        &  0.6798236\\\\\n",
       "\tV120 & V120       &  0.6059203\\\\\n",
       "\tV78 & V78        &  0.5309821\\\\\n",
       "\tV34 & V34        &  0.5120084\\\\\n",
       "\tV89 & V89        &  0.3634746\\\\\n",
       "\tV107 & V107       &  0.3340074\\\\\n",
       "\tV42 & V42        &  0.3318151\\\\\n",
       "\tV35 & V35        &  0.3213892\\\\\n",
       "\tV122 & V122       &  0.2914460\\\\\n",
       "\tV93 & V93        &  0.2408581\\\\\n",
       "\tV51 & V51        &  0.1766465\\\\\n",
       "\tV26 & V26        &  0.1715383\\\\\n",
       "\tV32 & V32        &  0.1693070\\\\\n",
       "\tV108 & V108       &  0.1691726\\\\\n",
       "\tV66 & V66        &  0.1529632\\\\\n",
       "\t... & ... & ...\\\\\n",
       "\tV90 & V90  & 0   \\\\\n",
       "\tV91 & V91  & 0   \\\\\n",
       "\tV92 & V92  & 0   \\\\\n",
       "\tV94 & V94  & 0   \\\\\n",
       "\tV95 & V95  & 0   \\\\\n",
       "\tV98 & V98  & 0   \\\\\n",
       "\tV99 & V99  & 0   \\\\\n",
       "\tV101 & V101 & 0   \\\\\n",
       "\tV102 & V102 & 0   \\\\\n",
       "\tV103 & V103 & 0   \\\\\n",
       "\tV104 & V104 & 0   \\\\\n",
       "\tV105 & V105 & 0   \\\\\n",
       "\tV106 & V106 & 0   \\\\\n",
       "\tV109 & V109 & 0   \\\\\n",
       "\tV110 & V110 & 0   \\\\\n",
       "\tV111 & V111 & 0   \\\\\n",
       "\tV112 & V112 & 0   \\\\\n",
       "\tV113 & V113 & 0   \\\\\n",
       "\tV114 & V114 & 0   \\\\\n",
       "\tV115 & V115 & 0   \\\\\n",
       "\tV116 & V116 & 0   \\\\\n",
       "\tV117 & V117 & 0   \\\\\n",
       "\tV118 & V118 & 0   \\\\\n",
       "\tV119 & V119 & 0   \\\\\n",
       "\tV121 & V121 & 0   \\\\\n",
       "\tV123 & V123 & 0   \\\\\n",
       "\tV124 & V124 & 0   \\\\\n",
       "\tV125 & V125 & 0   \\\\\n",
       "\tV126 & V126 & 0   \\\\\n",
       "\tV127 & V127 & 0   \\\\\n",
       "\\end{tabular}\n"
      ],
      "text/markdown": [
       "\n",
       "| <!--/--> | var | rel.inf |\n",
       "|---|---|---|\n",
       "| V50 | V50        | 26.5039975 |\n",
       "| V56 | V56        | 18.1225030 |\n",
       "| V9 | V9         | 11.6423778 |\n",
       "| V55 | V55        | 10.8671952 |\n",
       "| V49 | V49        |  5.3573688 |\n",
       "| V74 | V74        |  4.8588777 |\n",
       "| V46 | V46        |  3.7164739 |\n",
       "| V75 | V75        |  2.5809681 |\n",
       "| V77 | V77        |  2.1282643 |\n",
       "| V96 | V96        |  1.9598227 |\n",
       "| V21 | V21        |  1.7681326 |\n",
       "| V47 | V47        |  1.6609712 |\n",
       "| V80 | V80        |  1.0029203 |\n",
       "| V52 | V52        |  0.9028357 |\n",
       "| V8 | V8         |  0.8403268 |\n",
       "| V44 | V44        |  0.6798236 |\n",
       "| V120 | V120       |  0.6059203 |\n",
       "| V78 | V78        |  0.5309821 |\n",
       "| V34 | V34        |  0.5120084 |\n",
       "| V89 | V89        |  0.3634746 |\n",
       "| V107 | V107       |  0.3340074 |\n",
       "| V42 | V42        |  0.3318151 |\n",
       "| V35 | V35        |  0.3213892 |\n",
       "| V122 | V122       |  0.2914460 |\n",
       "| V93 | V93        |  0.2408581 |\n",
       "| V51 | V51        |  0.1766465 |\n",
       "| V26 | V26        |  0.1715383 |\n",
       "| V32 | V32        |  0.1693070 |\n",
       "| V108 | V108       |  0.1691726 |\n",
       "| V66 | V66        |  0.1529632 |\n",
       "| ... | ... | ... |\n",
       "| V90 | V90  | 0    |\n",
       "| V91 | V91  | 0    |\n",
       "| V92 | V92  | 0    |\n",
       "| V94 | V94  | 0    |\n",
       "| V95 | V95  | 0    |\n",
       "| V98 | V98  | 0    |\n",
       "| V99 | V99  | 0    |\n",
       "| V101 | V101 | 0    |\n",
       "| V102 | V102 | 0    |\n",
       "| V103 | V103 | 0    |\n",
       "| V104 | V104 | 0    |\n",
       "| V105 | V105 | 0    |\n",
       "| V106 | V106 | 0    |\n",
       "| V109 | V109 | 0    |\n",
       "| V110 | V110 | 0    |\n",
       "| V111 | V111 | 0    |\n",
       "| V112 | V112 | 0    |\n",
       "| V113 | V113 | 0    |\n",
       "| V114 | V114 | 0    |\n",
       "| V115 | V115 | 0    |\n",
       "| V116 | V116 | 0    |\n",
       "| V117 | V117 | 0    |\n",
       "| V118 | V118 | 0    |\n",
       "| V119 | V119 | 0    |\n",
       "| V121 | V121 | 0    |\n",
       "| V123 | V123 | 0    |\n",
       "| V124 | V124 | 0    |\n",
       "| V125 | V125 | 0    |\n",
       "| V126 | V126 | 0    |\n",
       "| V127 | V127 | 0    |\n",
       "\n"
      ],
      "text/plain": [
       "     var  rel.inf   \n",
       "V50  V50  26.5039975\n",
       "V56  V56  18.1225030\n",
       "V9   V9   11.6423778\n",
       "V55  V55  10.8671952\n",
       "V49  V49   5.3573688\n",
       "V74  V74   4.8588777\n",
       "V46  V46   3.7164739\n",
       "V75  V75   2.5809681\n",
       "V77  V77   2.1282643\n",
       "V96  V96   1.9598227\n",
       "V21  V21   1.7681326\n",
       "V47  V47   1.6609712\n",
       "V80  V80   1.0029203\n",
       "V52  V52   0.9028357\n",
       "V8   V8    0.8403268\n",
       "V44  V44   0.6798236\n",
       "V120 V120  0.6059203\n",
       "V78  V78   0.5309821\n",
       "V34  V34   0.5120084\n",
       "V89  V89   0.3634746\n",
       "V107 V107  0.3340074\n",
       "V42  V42   0.3318151\n",
       "V35  V35   0.3213892\n",
       "V122 V122  0.2914460\n",
       "V93  V93   0.2408581\n",
       "V51  V51   0.1766465\n",
       "V26  V26   0.1715383\n",
       "V32  V32   0.1693070\n",
       "V108 V108  0.1691726\n",
       "V66  V66   0.1529632\n",
       "...  ...  ...       \n",
       "V90  V90  0         \n",
       "V91  V91  0         \n",
       "V92  V92  0         \n",
       "V94  V94  0         \n",
       "V95  V95  0         \n",
       "V98  V98  0         \n",
       "V99  V99  0         \n",
       "V101 V101 0         \n",
       "V102 V102 0         \n",
       "V103 V103 0         \n",
       "V104 V104 0         \n",
       "V105 V105 0         \n",
       "V106 V106 0         \n",
       "V109 V109 0         \n",
       "V110 V110 0         \n",
       "V111 V111 0         \n",
       "V112 V112 0         \n",
       "V113 V113 0         \n",
       "V114 V114 0         \n",
       "V115 V115 0         \n",
       "V116 V116 0         \n",
       "V117 V117 0         \n",
       "V118 V118 0         \n",
       "V119 V119 0         \n",
       "V121 V121 0         \n",
       "V123 V123 0         \n",
       "V124 V124 0         \n",
       "V125 V125 0         \n",
       "V126 V126 0         \n",
       "V127 V127 0         "
      ]
     },
     "metadata": {},
     "output_type": "display_data"
    },
    {
     "data": {
      "image/png": "[encoded data removed]",
      "text/plain": [
       "plot without title"
      ]
     },
     "metadata": {},
     "output_type": "display_data"
    }
   ],
   "source": [
    "trcontrol<-trainControl(method = \"repeatedcv\",number=5)\n",
    "set.seed(123)\n",
    "\n",
    "gbm_tree<-gbm(Class~.,data = crimetrain,distribution=\"gaussian\",cv.folds = 3)\n",
    "summary(gbm_tree)"
   ]
  },
  {
   "cell_type": "code",
   "execution_count": 36,
   "metadata": {},
   "outputs": [
    {
     "name": "stdout",
     "output_type": "stream",
     "text": [
      "[1] \"coefficient of determination:\" \"0.647522647829253\"            \n"
     ]
    }
   ],
   "source": [
    "predictions<-predict(gbm_tree,crimetest,n.trees = 100)\n",
    "outcome<-cbind(crimetest$Class, data.frame(predictions))\n",
    "rss <- sum((outcome[,2] - outcome[,1]) ^ 2)  ## residual sum of squares\n",
    "tss <- sum((outcome[,1] - mean(outcome[,1])) ^ 2)  ## total sum of squares\n",
    "rsq <- 1 - rss/tss\n",
    "print(c(\"coefficient of determination:\",rsq))"
   ]
  },
  {
   "cell_type": "markdown",
   "metadata": {},
   "source": [
    "- $R^2$ values for the best model of each approach are given below:\n",
    "\n",
    "| Penalized Regression | Decision Tree | Random Forest | Stochastic Gradient Boosting |\n",
    "| --- | --- | --- | --- |\n",
    "| 0.636192 | 0.559449 | 0.664531 | 0.647522 |\n",
    "\n",
    "- According to these values, we can say that **random forest model** performs better compared to other models."
   ]
  },
  {
   "cell_type": "code",
   "execution_count": null,
   "metadata": {},
   "outputs": [],
   "source": []
  }
 ],
 "metadata": {
  "kernelspec": {
   "display_name": "R",
   "language": "R",
   "name": "ir"
  },
  "language_info": {
   "codemirror_mode": "r",
   "file_extension": ".r",
   "mimetype": "text/x-r-source",
   "name": "R",
   "pygments_lexer": "r",
   "version": "3.6.1"
  }
 },
 "nbformat": 4,
 "nbformat_minor": 4
}
