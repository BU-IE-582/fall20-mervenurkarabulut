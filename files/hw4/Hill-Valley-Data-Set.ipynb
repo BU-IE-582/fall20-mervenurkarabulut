{
 "cells": [
  {
   "cell_type": "markdown",
   "metadata": {},
   "source": [
    "# Hill-Valley Data Set\n",
    "\n",
    "**Data Set Information:**\n",
    "\n",
    "Each record represents 100 points on a two-dimensional graph. When plotted in order (from 1 through 100) as the Y coordinate, the points will create either a Hill (a “bump” in the terrain) or a Valley (a “dip” in the terrain).\n",
    "\n",
    "**Attribute Information:**\n",
    "\n",
    "1-100: Labeled “X##”. Floating point values (numeric)\n",
    "\n",
    "101: Labeled “class”. Binary {0, 1} representing {valley, hill}"
   ]
  },
  {
   "cell_type": "code",
   "execution_count": 1,
   "metadata": {},
   "outputs": [
    {
     "name": "stdout",
     "output_type": "stream",
     "text": [
      "'data.frame':\t606 obs. of  101 variables:\n",
      " $ X1   : num  1317.27 7329.97 809.42 45334.21 1.81 ...\n",
      " $ X2   : num  1315.22 7379.91 809.78 45334.21 1.81 ...\n",
      " $ X3   : num  1312.77 7441.8 810.21 45334.22 1.81 ...\n",
      " $ X4   : num  1309.83 7518.5 810.72 45334.23 1.81 ...\n",
      " $ X5   : num  1306.32 7613.57 811.32 45334.23 1.81 ...\n",
      " $ X6   : num  1302.1 7731.38 812.04 45334.24 1.81 ...\n",
      " $ X7   : num  1297.05 7877.39 812.9 45334.25 1.81 ...\n",
      " $ X8   : num  1290.99 8058.34 813.92 45334.26 1.81 ...\n",
      " $ X9   : num  1283.74 8282.6 815.14 45334.28 1.81 ...\n",
      " $ X10  : num  1275.04 8560.53 816.59 45334.3 1.81 ...\n",
      " $ X11  : num  1264.62 8904.97 818.31 45334.32 1.81 ...\n",
      " $ X12  : num  1252.14 9331.85 820.36 45334.34 1.81 ...\n",
      " $ X13  : num  1237.18 9860.9 822.81 45334.37 1.81 ...\n",
      " $ X14  : num  1219.25 10516.56 825.72 45334.4 1.81 ...\n",
      " $ X15  : num  1197.77 9860.9 829.18 45334.43 1.81 ...\n",
      " $ X16  : num  1172.02 9331.85 833.3 45334.48 1.81 ...\n",
      " $ X17  : num  1141.17 8904.97 838.21 45334.53 1.81 ...\n",
      " $ X18  : num  1104.2 8560.53 844.06 45334.59 1.81 ...\n",
      " $ X19  : num  1059.9 8282.6 851.02 45334.66 1.81 ...\n",
      " $ X20  : num  1006.82 8058.34 859.31 45334.74 1.81 ...\n",
      " $ X21  : num  943.21 7877.39 869.17 45334.84 1.81 ...\n",
      " $ X22  : num  866.98 7731.38 880.92 45334.95 1.81 ...\n",
      " $ X23  : num  943.21 7613.57 894.9 45335.08 1.81 ...\n",
      " $ X24  : num  1006.82 7518.5 911.55 45335.24 1.81 ...\n",
      " $ X25  : num  1059.9 7441.8 931.38 45335.42 1.81 ...\n",
      " $ X26  : num  1104.2 7379.91 954.98 45335.64 1.81 ...\n",
      " $ X27  : num  1141.17 7329.97 983.08 45335.89 1.81 ...\n",
      " $ X28  : num  1172.02 7289.67 1016.53 45336.18 1.81 ...\n",
      " $ X29  : num  1197.77 7257.16 1056.36 45336.53 1.81 ...\n",
      " $ X30  : num  1219.25 7230.92 1103.78 45336.93 1.81 ...\n",
      " $ X31  : num  1237.18 7209.75 1056.36 45337.41 1.81 ...\n",
      " $ X32  : num  1252.14 7192.67 1016.53 45337.97 1.81 ...\n",
      " $ X33  : num  1264.62 7178.89 983.08 45338.62 1.81 ...\n",
      " $ X34  : num  1275.04 7167.77 954.98 45339.39 1.81 ...\n",
      " $ X35  : num  1283.74 7158.79 931.38 45340.29 1.81 ...\n",
      " $ X36  : num  1290.99 7151.55 911.55 45341.34 1.81 ...\n",
      " $ X37  : num  1297.05 7145.71 894.9 45342.58 1.81 ...\n",
      " $ X38  : num  1302.1 7141 880.92 45344.03 1.81 ...\n",
      " $ X39  : num  1306.32 7137.19 869.17 45345.73 1.81 ...\n",
      " $ X40  : num  1309.83 7134.12 859.31 45347.72 1.81 ...\n",
      " $ X41  : num  1312.77 7131.65 851.02 45350.06 1.81 ...\n",
      " $ X42  : num  1315.22 7129.65 844.06 45352.8 1.81 ...\n",
      " $ X43  : num  1317.27 7128.04 838.21 45356.02 1.81 ...\n",
      " $ X44  : num  1318.97 7126.74 833.3 45359.79 1.81 ...\n",
      " $ X45  : num  1320.4 7125.69 829.18 45364.21 1.81 ...\n",
      " $ X46  : num  1321.58 7124.84 825.72 45369.4 1.81 ...\n",
      " $ X47  : num  1322.58 7124.16 822.81 45375.48 1.81 ...\n",
      " $ X48  : num  1323.4 7123.6 820.36 45382.62 1.81 ...\n",
      " $ X49  : num  1324.09 7123.16 818.31 45390.98 1.81 ...\n",
      " $ X50  : num  1324.67 7122.8 816.59 45400.79 1.81 ...\n",
      " $ X51  : num  1325.15 7122.51 815.14 45412.3 1.81 ...\n",
      " $ X52  : num  1325.55 7122.28 813.92 45425.79 1.81 ...\n",
      " $ X53  : num  1325.89 7122.09 812.9 45441.61 1.81 ...\n",
      " $ X54  : num  1326.17 7121.94 812.04 45460.16 1.81 ...\n",
      " $ X55  : num  1326.4 7121.81 811.32 45481.92 1.81 ...\n",
      " $ X56  : num  1326.6 7121.71 810.72 45507.44 1.81 ...\n",
      " $ X57  : num  1326.76 7121.63 810.21 45537.36 1.81 ...\n",
      " $ X58  : num  1326.89 7121.57 809.78 45572.45 1.81 ...\n",
      " $ X59  : num  1327.01 7121.52 809.42 45613.6 1.81 ...\n",
      " $ X60  : num  1327.1 7121.48 809.12 45661.85 1.81 ...\n",
      " $ X61  : num  1327.18 7121.44 808.87 45718.45 1.81 ...\n",
      " $ X62  : num  1327.25 7121.41 808.65 45784.81 1.81 ...\n",
      " $ X63  : num  1327.3 7121.39 808.48 45862.64 1.81 ...\n",
      " $ X64  : num  1327.35 7121.37 808.33 45953.91 1.81 ...\n",
      " $ X65  : num  1327.38 7121.36 808.2 46060.94 1.81 ...\n",
      " $ X66  : num  1327.42 7121.35 808.09 46186.45 1.81 ...\n",
      " $ X67  : num  1327.44 7121.34 808.01 46333.65 1.81 ...\n",
      " $ X68  : num  1327.46 7121.33 807.93 46506.26 1.81 ...\n",
      " $ X69  : num  1327.5 7121.3 807.9 46708.7 1.8 ...\n",
      " $ X70  : num  1327.5 7121.3 807.8 46946.1 1.8 ...\n",
      " $ X71  : num  1327.5 7121.3 807.8 47224.5 1.8 ...\n",
      " $ X72  : num  1327.5 7121.3 807.7 47550.9 1.8 ...\n",
      " $ X73  : num  1327.53 7121.31 807.7 47933.77 1.79 ...\n",
      " $ X74  : num  1327.54 7121.31 807.68 48382.74 1.79 ...\n",
      " $ X75  : num  1327.55 7121.31 807.65 48909.24 1.78 ...\n",
      " $ X76  : num  1327.55 7121.31 807.64 49526.68 1.78 ...\n",
      " $ X77  : num  1327.55 7121.3 807.62 50250.75 1.77 ...\n",
      " $ X78  : num  1327.56 7121.3 807.61 51099.88 1.75 ...\n",
      " $ X79  : num  1327.56 7121.3 807.6 52095.66 1.74 ...\n",
      " $ X80  : num  1327.56 7121.3 807.59 53263.41 1.72 ...\n",
      " $ X81  : num  1327.57 7121.3 807.58 54632.85 1.69 ...\n",
      " $ X82  : num  1327.57 7121.3 807.57 56238.79 1.66 ...\n",
      " $ X83  : num  1327.57 7121.3 807.57 54632.85 1.61 ...\n",
      " $ X84  : num  1327.57 7121.3 807.56 53263.41 1.66 ...\n",
      " $ X85  : num  1327.57 7121.3 807.56 52095.66 1.69 ...\n",
      " $ X86  : num  1327.57 7121.3 807.56 51099.88 1.72 ...\n",
      " $ X87  : num  1327.57 7121.3 807.55 50250.75 1.74 ...\n",
      " $ X88  : num  1327.57 7121.3 807.55 49526.68 1.75 ...\n",
      " $ X89  : num  1327.57 7121.3 807.55 48909.24 1.77 ...\n",
      " $ X90  : num  1327.57 7121.3 807.55 48382.74 1.78 ...\n",
      " $ X91  : num  1327.57 7121.3 807.55 47933.77 1.78 ...\n",
      " $ X92  : num  1327.58 7121.3 807.55 47550.92 1.79 ...\n",
      " $ X93  : num  1327.58 7121.3 807.54 47224.46 1.79 ...\n",
      " $ X94  : num  1327.6 7121.3 807.5 46946.1 1.8 ...\n",
      " $ X95  : num  1327.6 7121.3 807.5 46708.7 1.8 ...\n",
      " $ X96  : num  1327.6 7121.3 807.5 46506.3 1.8 ...\n",
      " $ X97  : num  1327.6 7121.3 807.5 46333.6 1.8 ...\n",
      " $ X98  : num  1327.58 7121.3 807.54 46186.45 1.81 ...\n",
      " $ X99  : num  1327.58 7121.3 807.54 46060.94 1.81 ...\n",
      "  [list output truncated]\n"
     ]
    }
   ],
   "source": [
    "# input reading\n",
    "setwd(\"C:/IE582\")\n",
    "Dataset_2<-read.table(\"Hill_Valley.data\",sep=\",\",header=T)\n",
    "colnames(Dataset_2)[101]=\"Class\"\n",
    "Dataset_2$Class<-as.factor(Dataset_2$Class)\n",
    "str(Dataset_2)"
   ]
  },
  {
   "cell_type": "code",
   "execution_count": 2,
   "metadata": {},
   "outputs": [],
   "source": [
    "set.seed(105) \n",
    "# select 75% of data as train data\n",
    "sample <- sample.int(n = nrow(Dataset_2), size = floor(.75*nrow(Dataset_2)), replace = F)\n",
    "Dataset_2_train <- Dataset_2[sample, ]\n",
    "Dataset_2_test  <- Dataset_2[-sample, ]"
   ]
  },
  {
   "cell_type": "markdown",
   "metadata": {},
   "source": [
    "## Penalized Regression\n",
    "\n",
    "In the penalized regression approach, cross validation is used on the train data to find the best value of the lambda and it is found after 10 fold cross validation. Then with this lambda a model is built to predict class of the test data instances as \"hill\" or \"valley\"."
   ]
  },
  {
   "cell_type": "code",
   "execution_count": 3,
   "metadata": {},
   "outputs": [
    {
     "name": "stderr",
     "output_type": "stream",
     "text": [
      "Warning message:\n",
      "\"package 'glmnet' was built under R version 3.6.3\"Loading required package: Matrix\n",
      "Loaded glmnet 4.1\n"
     ]
    }
   ],
   "source": [
    "library(glmnet)"
   ]
  },
  {
   "cell_type": "code",
   "execution_count": 4,
   "metadata": {},
   "outputs": [
    {
     "data": {
      "image/png": "[encoded data removed]",
      "text/plain": [
       "plot without title"
      ]
     },
     "metadata": {},
     "output_type": "display_data"
    }
   ],
   "source": [
    "new_train<-as.matrix(Dataset_2_train[,-101])\n",
    "new_test<-as.matrix(Dataset_2_test[,-101])\n",
    "cross_validation<-cv.glmnet(new_train,as.matrix(Dataset_2_train$Class) ,family=\"binomial\", alpha=1)\n",
    "options(repr.plot.width=5, repr.plot.height=5)\n",
    "plot(cross_validation)"
   ]
  },
  {
   "cell_type": "code",
   "execution_count": 5,
   "metadata": {},
   "outputs": [
    {
     "name": "stdout",
     "output_type": "stream",
     "text": [
      "[1] \"The best lambda value: \" \"0.000631152887902228\"   \n"
     ]
    }
   ],
   "source": [
    "print(c(\"The best lambda value: \", cross_validation$lambda.min))"
   ]
  },
  {
   "cell_type": "markdown",
   "metadata": {},
   "source": [
    "- **The best lambda value is found as 0.00063.**"
   ]
  },
  {
   "cell_type": "code",
   "execution_count": 6,
   "metadata": {},
   "outputs": [
    {
     "data": {
      "text/plain": [
       "           Length Class     Mode     \n",
       "a0           1    -none-    numeric  \n",
       "beta       100    dgCMatrix S4       \n",
       "df           1    -none-    numeric  \n",
       "dim          2    -none-    numeric  \n",
       "lambda       1    -none-    numeric  \n",
       "dev.ratio    1    -none-    numeric  \n",
       "nulldev      1    -none-    numeric  \n",
       "npasses      1    -none-    numeric  \n",
       "jerr         1    -none-    numeric  \n",
       "offset       1    -none-    logical  \n",
       "classnames   2    -none-    character\n",
       "call         6    -none-    call     \n",
       "nobs         1    -none-    numeric  "
      ]
     },
     "metadata": {},
     "output_type": "display_data"
    }
   ],
   "source": [
    "# fitting the penalized regression model\n",
    "fit <- glmnet(new_train,as.matrix(Dataset_2_train$Class) ,family=\"binomial\", alpha=1,lambda=cross_validation$lambda.min)\n",
    "# summarize the model\n",
    "summary(fit)"
   ]
  },
  {
   "cell_type": "code",
   "execution_count": 7,
   "metadata": {},
   "outputs": [
    {
     "name": "stdout",
     "output_type": "stream",
     "text": [
      "[1] \"confusion matrix for the train data:\"\n",
      "   \n",
      "      0   1\n",
      "  0 115   0\n",
      "  1 111 228\n",
      "[1] \"train error:\"      \"0.244493392070485\"\n"
     ]
    }
   ],
   "source": [
    "# prediction for train data\n",
    "predictions <- predict(fit, new_train, type=\"class\")\n",
    "# accuracy for train data\n",
    "tab<-table(predictions[,1],Dataset_2_train$Class)\n",
    "print(\"confusion matrix for the train data:\")\n",
    "print(tab)\n",
    "train_error<-1-sum(diag(tab)/sum(tab))\n",
    "print(c(\"train error:\",train_error))"
   ]
  },
  {
   "cell_type": "code",
   "execution_count": 8,
   "metadata": {},
   "outputs": [
    {
     "name": "stdout",
     "output_type": "stream",
     "text": [
      "[1] \"confusion matrix for the test data:\"\n",
      "   \n",
      "     0  1\n",
      "  0 41  1\n",
      "  1 38 72\n",
      "[1] \"test error:\"       \"0.256578947368421\"\n"
     ]
    }
   ],
   "source": [
    "# prediction for test data\n",
    "predictions <- predict(fit, new_test, type=\"class\")\n",
    "# accuracy for test data\n",
    "tab<-table(predictions[,1],Dataset_2_test$Class)\n",
    "print(\"confusion matrix for the test data:\")\n",
    "print(tab)\n",
    "test_error<-1-sum(diag(tab)/sum(tab))\n",
    "print(c(\"test error:\",test_error))"
   ]
  },
  {
   "cell_type": "markdown",
   "metadata": {},
   "source": [
    "- Penalized regression with lasso penalty gives **train error of 0.244** and **test error of 0.257** for this data set."
   ]
  },
  {
   "cell_type": "markdown",
   "metadata": {},
   "source": [
    "## Decision Tree\n",
    "\n",
    "In decision tree approach, for **the minimal number of observations per tree leaf** 2,3,4 and 5 are used; for **the complexity parameter** 0.005, 0.01, 0.015 and 0.02 are used."
   ]
  },
  {
   "cell_type": "code",
   "execution_count": 9,
   "metadata": {},
   "outputs": [
    {
     "name": "stderr",
     "output_type": "stream",
     "text": [
      "Loading required package: rpart\n",
      "Warning message:\n",
      "\"package 'rpart' was built under R version 3.6.3\"Loading required package: rattle\n",
      "Warning message:\n",
      "\"package 'rattle' was built under R version 3.6.3\"Loading required package: tibble\n",
      "Warning message:\n",
      "\"package 'tibble' was built under R version 3.6.3\"Loading required package: bitops\n",
      "Rattle: A free graphical interface for data science with R.\n",
      "Version 5.4.0 Copyright (c) 2006-2020 Togaware Pty Ltd.\n",
      "Type 'rattle()' to shake, rattle, and roll your data.\n"
     ]
    }
   ],
   "source": [
    "require(rpart)\n",
    "require(rattle)"
   ]
  },
  {
   "cell_type": "code",
   "execution_count": 18,
   "metadata": {},
   "outputs": [],
   "source": [
    "set.seed(154)\n",
    "\n",
    "# function for building a decision tree with different parameters of the minimal number of observations per tree leaf and \n",
    "# the complexity parameter\n",
    "\n",
    "decision_tree <- function(i) {\n",
    "    dtree1<-rpart(Class~.,data = Dataset_2_train,control = rpart.control(minbucket = 1+i,cp=0.005*i))\n",
    "    a<-as.data.frame(printcp(dtree1))\n",
    "\n",
    "    # prediction\n",
    "    predict(dtree1,Dataset_2_test)\n",
    "    \n",
    "    # misclassification error for train data\n",
    "    tab1_train<-table(predict(dtree1,Dataset_2_train, type=\"class\"),Dataset_2_train$Class)\n",
    "    print(tab1_train)\n",
    "    error1_train<-1-sum(diag(tab1_train)/sum(tab1_train))\n",
    "    print(c(\"train error:\",error1_train)) \n",
    "  \n",
    "    # misclassification error for test data\n",
    "    tab1_test<-table(predict(dtree1,Dataset_2_test, type=\"class\"),Dataset_2_test$Class)\n",
    "    error1_test<-1-sum(diag(tab1_test)/sum(tab1_test))\n",
    "    print(c(\"test error:\",error1_test))\n",
    "    \n",
    "    options(repr.plot.width=4, repr.plot.height=4)\n",
    "    plotcp(dtree1)\n",
    "    return(c(error1_train,error1_test))\n",
    "}"
   ]
  },
  {
   "cell_type": "code",
   "execution_count": 38,
   "metadata": {},
   "outputs": [],
   "source": [
    "train_err <- list()\n",
    "test_err <- list()"
   ]
  },
  {
   "cell_type": "code",
   "execution_count": 39,
   "metadata": {},
   "outputs": [
    {
     "name": "stdout",
     "output_type": "stream",
     "text": [
      "\n",
      "Classification tree:\n",
      "rpart(formula = Class ~ ., data = Dataset_2_train, control = rpart.control(minbucket = 1 + \n",
      "    i, cp = 0.005 * i))\n",
      "\n",
      "Variables actually used in tree construction:\n",
      " [1] X1  X15 X19 X22 X23 X25 X29 X36 X37 X39 X40 X44 X46 X48 X51 X55 X59 X62 X64\n",
      "[20] X67 X69 X7  X74 X75\n",
      "\n",
      "Root node error: 226/454 = 0.4978\n",
      "\n",
      "n= 454 \n",
      "\n",
      "         CP nsplit rel error  xerror     xstd\n",
      "1 0.0376106      0   1.00000 1.07080 0.047037\n",
      "2 0.0110619      2   0.92478 1.08407 0.046992\n",
      "3 0.0088496     30   0.47788 1.01327 0.047138\n",
      "4 0.0066372     44   0.34071 0.96903 0.047111\n",
      "5 0.0058997     46   0.32743 0.97788 0.047124\n",
      "6 0.0050000     49   0.30973 0.97788 0.047124\n",
      "   \n",
      "      0   1\n",
      "  0 209  53\n",
      "  1  17 175\n",
      "[1] \"train error:\"      \"0.154185022026432\"\n",
      "[1] \"test error:\"       \"0.361842105263158\"\n"
     ]
    },
    {
     "data": {
      "image/png": "[encoded data removed]",
      "text/plain": [
       "plot without title"
      ]
     },
     "metadata": {},
     "output_type": "display_data"
    }
   ],
   "source": [
    "err = decision_tree(1)\n",
    "train_err <- append(train_err,err[1])\n",
    "test_err <- append(test_err,err[2])"
   ]
  },
  {
   "cell_type": "code",
   "execution_count": 40,
   "metadata": {},
   "outputs": [
    {
     "name": "stdout",
     "output_type": "stream",
     "text": [
      "\n",
      "Classification tree:\n",
      "rpart(formula = Class ~ ., data = Dataset_2_train, control = rpart.control(minbucket = 1 + \n",
      "    i, cp = 0.005 * i))\n",
      "\n",
      "Variables actually used in tree construction:\n",
      " [1] X1  X19 X22 X23 X25 X29 X37 X39 X46 X48 X55 X69 X74 X75\n",
      "\n",
      "Root node error: 226/454 = 0.4978\n",
      "\n",
      "n= 454 \n",
      "\n",
      "        CP nsplit rel error xerror     xstd\n",
      "1 0.037611      0   1.00000 1.1150 0.046853\n",
      "2 0.011062      2   0.92478 1.1150 0.046853\n",
      "3 0.010000     30   0.47788 1.0619 0.047063\n",
      "   \n",
      "      0   1\n",
      "  0 183  65\n",
      "  1  43 163\n",
      "[1] \"train error:\"      \"0.237885462555066\"\n",
      "[1] \"test error:\"       \"0.434210526315789\"\n"
     ]
    },
    {
     "data": {
      "image/png": "[encoded data removed]",
      "text/plain": [
       "plot without title"
      ]
     },
     "metadata": {},
     "output_type": "display_data"
    }
   ],
   "source": [
    "err = decision_tree(2)\n",
    "train_err <- append(train_err,err[1])\n",
    "test_err <- append(test_err,err[2])"
   ]
  },
  {
   "cell_type": "code",
   "execution_count": 41,
   "metadata": {},
   "outputs": [
    {
     "name": "stdout",
     "output_type": "stream",
     "text": [
      "\n",
      "Classification tree:\n",
      "rpart(formula = Class ~ ., data = Dataset_2_train, control = rpart.control(minbucket = 1 + \n",
      "    i, cp = 0.005 * i))\n",
      "\n",
      "Variables actually used in tree construction:\n",
      "[1] X1  X69\n",
      "\n",
      "Root node error: 226/454 = 0.4978\n",
      "\n",
      "n= 454 \n",
      "\n",
      "        CP nsplit rel error xerror     xstd\n",
      "1 0.037611      0   1.00000 1.1814 0.046402\n",
      "2 0.015000      2   0.92478 1.1726 0.046475\n",
      "   \n",
      "      0   1\n",
      "  0 217 200\n",
      "  1   9  28\n",
      "[1] \"train error:\"      \"0.460352422907489\"\n",
      "[1] \"test error:\"       \"0.480263157894737\"\n"
     ]
    },
    {
     "data": {
      "image/png": "[encoded data removed]",
      "text/plain": [
       "plot without title"
      ]
     },
     "metadata": {},
     "output_type": "display_data"
    }
   ],
   "source": [
    "err = decision_tree(3)\n",
    "train_err <- append(train_err,err[1])\n",
    "test_err <- append(test_err,err[2])"
   ]
  },
  {
   "cell_type": "code",
   "execution_count": 42,
   "metadata": {},
   "outputs": [
    {
     "name": "stdout",
     "output_type": "stream",
     "text": [
      "\n",
      "Classification tree:\n",
      "rpart(formula = Class ~ ., data = Dataset_2_train, control = rpart.control(minbucket = 1 + \n",
      "    i, cp = 0.005 * i))\n",
      "\n",
      "Variables actually used in tree construction:\n",
      "[1] X1  X69\n",
      "\n",
      "Root node error: 226/454 = 0.4978\n",
      "\n",
      "n= 454 \n",
      "\n",
      "        CP nsplit rel error xerror     xstd\n",
      "1 0.037611      0   1.00000 1.1504 0.046639\n",
      "2 0.020000      2   0.92478 1.1504 0.046639\n",
      "   \n",
      "      0   1\n",
      "  0 217 200\n",
      "  1   9  28\n",
      "[1] \"train error:\"      \"0.460352422907489\"\n",
      "[1] \"test error:\"       \"0.480263157894737\"\n"
     ]
    },
    {
     "data": {
      "image/png": "[encoded data removed]",
      "text/plain": [
       "plot without title"
      ]
     },
     "metadata": {},
     "output_type": "display_data"
    }
   ],
   "source": [
    "err = decision_tree(4)\n",
    "train_err <- append(train_err,err[1])\n",
    "test_err <- append(test_err,err[2])"
   ]
  },
  {
   "cell_type": "code",
   "execution_count": 43,
   "metadata": {},
   "outputs": [
    {
     "data": {
      "text/html": [
       "<ol>\n",
       "\t<li>0.154185022026432</li>\n",
       "\t<li>0.237885462555066</li>\n",
       "\t<li>0.460352422907489</li>\n",
       "\t<li>0.460352422907489</li>\n",
       "</ol>\n"
      ],
      "text/latex": [
       "\\begin{enumerate}\n",
       "\\item 0.154185022026432\n",
       "\\item 0.237885462555066\n",
       "\\item 0.460352422907489\n",
       "\\item 0.460352422907489\n",
       "\\end{enumerate}\n"
      ],
      "text/markdown": [
       "1. 0.154185022026432\n",
       "2. 0.237885462555066\n",
       "3. 0.460352422907489\n",
       "4. 0.460352422907489\n",
       "\n",
       "\n"
      ],
      "text/plain": [
       "[[1]]\n",
       "[1] 0.154185\n",
       "\n",
       "[[2]]\n",
       "[1] 0.2378855\n",
       "\n",
       "[[3]]\n",
       "[1] 0.4603524\n",
       "\n",
       "[[4]]\n",
       "[1] 0.4603524\n"
      ]
     },
     "metadata": {},
     "output_type": "display_data"
    }
   ],
   "source": [
    "train_err"
   ]
  },
  {
   "cell_type": "code",
   "execution_count": 44,
   "metadata": {},
   "outputs": [
    {
     "data": {
      "text/html": [
       "<ol>\n",
       "\t<li>0.361842105263158</li>\n",
       "\t<li>0.434210526315789</li>\n",
       "\t<li>0.480263157894737</li>\n",
       "\t<li>0.480263157894737</li>\n",
       "</ol>\n"
      ],
      "text/latex": [
       "\\begin{enumerate}\n",
       "\\item 0.361842105263158\n",
       "\\item 0.434210526315789\n",
       "\\item 0.480263157894737\n",
       "\\item 0.480263157894737\n",
       "\\end{enumerate}\n"
      ],
      "text/markdown": [
       "1. 0.361842105263158\n",
       "2. 0.434210526315789\n",
       "3. 0.480263157894737\n",
       "4. 0.480263157894737\n",
       "\n",
       "\n"
      ],
      "text/plain": [
       "[[1]]\n",
       "[1] 0.3618421\n",
       "\n",
       "[[2]]\n",
       "[1] 0.4342105\n",
       "\n",
       "[[3]]\n",
       "[1] 0.4802632\n",
       "\n",
       "[[4]]\n",
       "[1] 0.4802632\n"
      ]
     },
     "metadata": {},
     "output_type": "display_data"
    }
   ],
   "source": [
    "test_err"
   ]
  },
  {
   "cell_type": "markdown",
   "metadata": {},
   "source": [
    "- For both train and test data the decision tree with **the minimal number of observations per tree leaf as 2** and **the complexity parameter as 0.0005** has a better performance when compared with train and test errors."
   ]
  },
  {
   "cell_type": "markdown",
   "metadata": {},
   "source": [
    "## Random Forest\n",
    "\n",
    "In random forest approach, J trees are fit to bootstrap samples using a random sample of m features on which to split each\n",
    "node. I used (12,14,16,18,20) as m in each iteration to find the best value."
   ]
  },
  {
   "cell_type": "code",
   "execution_count": 45,
   "metadata": {},
   "outputs": [
    {
     "name": "stderr",
     "output_type": "stream",
     "text": [
      "Loading required package: randomForest\n",
      "Warning message:\n",
      "\"package 'randomForest' was built under R version 3.6.3\"randomForest 4.6-14\n",
      "Type rfNews() to see new features/changes/bug fixes.\n",
      "\n",
      "Attaching package: 'randomForest'\n",
      "\n",
      "The following object is masked from 'package:rattle':\n",
      "\n",
      "    importance\n",
      "\n",
      "Warning message:\n",
      "\"package 'cowplot' was built under R version 3.6.3\""
     ]
    }
   ],
   "source": [
    "require(randomForest)\n",
    "library(cowplot)"
   ]
  },
  {
   "cell_type": "code",
   "execution_count": 68,
   "metadata": {},
   "outputs": [],
   "source": [
    "set.seed(105)\n",
    "\n",
    "random_forest <- function(i){\n",
    "    model<-randomForest(Class~.,data=Dataset_2_train,proximity=TRUE,mtry=10+2*i)\n",
    "    print(model)\n",
    "    \n",
    "    # misclassification error for train data\n",
    "    tab1_train<-table(predict(model,Dataset_2_train, type=\"class\"),Dataset_2_train$Class)\n",
    "    print(tab1_train)\n",
    "    error1_train<-1-sum(diag(tab1_train)/sum(tab1_train))\n",
    "    print(c(\"train error:\",error1_train)) \n",
    "  \n",
    "    # misclassification error for test data\n",
    "    tab1_test<-table(predict(model,Dataset_2_test, type=\"class\"),Dataset_2_test$Class)\n",
    "    error1_test<-1-sum(diag(tab1_test)/sum(tab1_test))\n",
    "    print(c(\"test error:\",error1_test))\n",
    "    \n",
    "    return(error1_test)\n",
    "}"
   ]
  },
  {
   "cell_type": "code",
   "execution_count": 69,
   "metadata": {},
   "outputs": [],
   "source": [
    "err <- list()"
   ]
  },
  {
   "cell_type": "code",
   "execution_count": 70,
   "metadata": {},
   "outputs": [
    {
     "name": "stdout",
     "output_type": "stream",
     "text": [
      "\n",
      "Call:\n",
      " randomForest(formula = Class ~ ., data = Dataset_2_train, proximity = TRUE,      mtry = 10 + 2 * i) \n",
      "               Type of random forest: classification\n",
      "                     Number of trees: 500\n",
      "No. of variables tried at each split: 12\n",
      "\n",
      "        OOB estimate of  error rate: 46.48%\n",
      "Confusion matrix:\n",
      "    0   1 class.error\n",
      "0 121 105   0.4646018\n",
      "1 106 122   0.4649123\n",
      "   \n",
      "      0   1\n",
      "  0 226   0\n",
      "  1   0 228\n",
      "[1] \"train error:\" \"0\"           \n",
      "[1] \"test error:\"       \"0.368421052631579\"\n"
     ]
    }
   ],
   "source": [
    "e = random_forest(1)\n",
    "err = append(err,e)"
   ]
  },
  {
   "cell_type": "code",
   "execution_count": 71,
   "metadata": {},
   "outputs": [
    {
     "name": "stdout",
     "output_type": "stream",
     "text": [
      "\n",
      "Call:\n",
      " randomForest(formula = Class ~ ., data = Dataset_2_train, proximity = TRUE,      mtry = 10 + 2 * i) \n",
      "               Type of random forest: classification\n",
      "                     Number of trees: 500\n",
      "No. of variables tried at each split: 14\n",
      "\n",
      "        OOB estimate of  error rate: 48.02%\n",
      "Confusion matrix:\n",
      "    0   1 class.error\n",
      "0 112 114   0.5044248\n",
      "1 104 124   0.4561404\n",
      "   \n",
      "      0   1\n",
      "  0 226   0\n",
      "  1   0 228\n",
      "[1] \"train error:\" \"0\"           \n",
      "[1] \"test error:\"       \"0.401315789473684\"\n"
     ]
    }
   ],
   "source": [
    "e = random_forest(2)\n",
    "err = append(err,e)"
   ]
  },
  {
   "cell_type": "code",
   "execution_count": 72,
   "metadata": {},
   "outputs": [
    {
     "name": "stdout",
     "output_type": "stream",
     "text": [
      "\n",
      "Call:\n",
      " randomForest(formula = Class ~ ., data = Dataset_2_train, proximity = TRUE,      mtry = 10 + 2 * i) \n",
      "               Type of random forest: classification\n",
      "                     Number of trees: 500\n",
      "No. of variables tried at each split: 16\n",
      "\n",
      "        OOB estimate of  error rate: 48.02%\n",
      "Confusion matrix:\n",
      "    0   1 class.error\n",
      "0 114 112   0.4955752\n",
      "1 106 122   0.4649123\n",
      "   \n",
      "      0   1\n",
      "  0 226   0\n",
      "  1   0 228\n",
      "[1] \"train error:\" \"0\"           \n",
      "[1] \"test error:\" \"0.375\"      \n"
     ]
    }
   ],
   "source": [
    "e = random_forest(3)\n",
    "err = append(err,e)"
   ]
  },
  {
   "cell_type": "code",
   "execution_count": 73,
   "metadata": {},
   "outputs": [
    {
     "name": "stdout",
     "output_type": "stream",
     "text": [
      "\n",
      "Call:\n",
      " randomForest(formula = Class ~ ., data = Dataset_2_train, proximity = TRUE,      mtry = 10 + 2 * i) \n",
      "               Type of random forest: classification\n",
      "                     Number of trees: 500\n",
      "No. of variables tried at each split: 18\n",
      "\n",
      "        OOB estimate of  error rate: 47.14%\n",
      "Confusion matrix:\n",
      "    0   1 class.error\n",
      "0 118 108   0.4778761\n",
      "1 106 122   0.4649123\n",
      "   \n",
      "      0   1\n",
      "  0 226   0\n",
      "  1   0 228\n",
      "[1] \"train error:\" \"0\"           \n",
      "[1] \"test error:\"       \"0.394736842105263\"\n"
     ]
    }
   ],
   "source": [
    "e = random_forest(4)\n",
    "err = append(err,e)"
   ]
  },
  {
   "cell_type": "code",
   "execution_count": 74,
   "metadata": {},
   "outputs": [
    {
     "name": "stdout",
     "output_type": "stream",
     "text": [
      "\n",
      "Call:\n",
      " randomForest(formula = Class ~ ., data = Dataset_2_train, proximity = TRUE,      mtry = 10 + 2 * i) \n",
      "               Type of random forest: classification\n",
      "                     Number of trees: 500\n",
      "No. of variables tried at each split: 20\n",
      "\n",
      "        OOB estimate of  error rate: 48.24%\n",
      "Confusion matrix:\n",
      "    0   1 class.error\n",
      "0 113 113   0.5000000\n",
      "1 106 122   0.4649123\n",
      "   \n",
      "      0   1\n",
      "  0 226   0\n",
      "  1   0 228\n",
      "[1] \"train error:\" \"0\"           \n",
      "[1] \"test error:\"       \"0.394736842105263\"\n"
     ]
    }
   ],
   "source": [
    "e = random_forest(5)\n",
    "err = append(err,e)"
   ]
  },
  {
   "cell_type": "code",
   "execution_count": 75,
   "metadata": {},
   "outputs": [
    {
     "data": {
      "text/html": [
       "<ol>\n",
       "\t<li>0.368421052631579</li>\n",
       "\t<li>0.401315789473684</li>\n",
       "\t<li>0.375</li>\n",
       "\t<li>0.394736842105263</li>\n",
       "\t<li>0.394736842105263</li>\n",
       "</ol>\n"
      ],
      "text/latex": [
       "\\begin{enumerate}\n",
       "\\item 0.368421052631579\n",
       "\\item 0.401315789473684\n",
       "\\item 0.375\n",
       "\\item 0.394736842105263\n",
       "\\item 0.394736842105263\n",
       "\\end{enumerate}\n"
      ],
      "text/markdown": [
       "1. 0.368421052631579\n",
       "2. 0.401315789473684\n",
       "3. 0.375\n",
       "4. 0.394736842105263\n",
       "5. 0.394736842105263\n",
       "\n",
       "\n"
      ],
      "text/plain": [
       "[[1]]\n",
       "[1] 0.3684211\n",
       "\n",
       "[[2]]\n",
       "[1] 0.4013158\n",
       "\n",
       "[[3]]\n",
       "[1] 0.375\n",
       "\n",
       "[[4]]\n",
       "[1] 0.3947368\n",
       "\n",
       "[[5]]\n",
       "[1] 0.3947368\n"
      ]
     },
     "metadata": {},
     "output_type": "display_data"
    }
   ],
   "source": [
    "err"
   ]
  },
  {
   "cell_type": "markdown",
   "metadata": {},
   "source": [
    "- Comparing the test error rates, the best model is found with m=12 but all the train error rates are 0, this may indicate to an overfitting issue.\n",
    "\n",
    "- With the best decision tree, test error is 0.3618 and in this approach with the best model, test error is 0.3684. Thus, decision tree performs better than random forest."
   ]
  },
  {
   "cell_type": "markdown",
   "metadata": {},
   "source": [
    "## Stochastic Gradient Boosting (SGB)\n"
   ]
  },
  {
   "cell_type": "code",
   "execution_count": 79,
   "metadata": {},
   "outputs": [
    {
     "name": "stderr",
     "output_type": "stream",
     "text": [
      "Warning message:\n",
      "\"package 'caret' was built under R version 3.6.3\"Loading required package: lattice\n",
      "Warning message:\n",
      "\"package 'lattice' was built under R version 3.6.3\"Loading required package: ggplot2\n",
      "Warning message:\n",
      "\"package 'ggplot2' was built under R version 3.6.3\"\n",
      "Attaching package: 'ggplot2'\n",
      "\n",
      "The following object is masked from 'package:randomForest':\n",
      "\n",
      "    margin\n",
      "\n",
      "Loading required package: gbm\n",
      "Warning message:\n",
      "\"package 'gbm' was built under R version 3.6.3\"Loaded gbm 2.1.8\n"
     ]
    }
   ],
   "source": [
    "library(caret)\n",
    "require(gbm)"
   ]
  },
  {
   "cell_type": "code",
   "execution_count": 82,
   "metadata": {
    "scrolled": false
   },
   "outputs": [
    {
     "name": "stderr",
     "output_type": "stream",
     "text": [
      "Warning message:\n",
      "\"Setting `distribution = \"multinomial\"` is ill-advised as it is currently broken. It exists only for backwards compatibility. Use at your own risk.\""
     ]
    },
    {
     "data": {
      "text/html": [
       "<table>\n",
       "<thead><tr><th></th><th scope=col>var</th><th scope=col>rel.inf</th></tr></thead>\n",
       "<tbody>\n",
       "\t<tr><th scope=row>X1</th><td>X1       </td><td>19.615344</td></tr>\n",
       "\t<tr><th scope=row>X36</th><td>X36      </td><td> 5.168676</td></tr>\n",
       "\t<tr><th scope=row>X38</th><td>X38      </td><td> 4.630071</td></tr>\n",
       "\t<tr><th scope=row>X21</th><td>X21      </td><td> 3.941656</td></tr>\n",
       "\t<tr><th scope=row>X19</th><td>X19      </td><td> 3.781811</td></tr>\n",
       "\t<tr><th scope=row>X48</th><td>X48      </td><td> 3.529660</td></tr>\n",
       "\t<tr><th scope=row>X77</th><td>X77      </td><td> 2.908769</td></tr>\n",
       "\t<tr><th scope=row>X72</th><td>X72      </td><td> 2.637949</td></tr>\n",
       "\t<tr><th scope=row>X39</th><td>X39      </td><td> 2.406402</td></tr>\n",
       "\t<tr><th scope=row>X11</th><td>X11      </td><td> 2.347055</td></tr>\n",
       "\t<tr><th scope=row>X13</th><td>X13      </td><td> 2.221221</td></tr>\n",
       "\t<tr><th scope=row>X47</th><td>X47      </td><td> 1.857345</td></tr>\n",
       "\t<tr><th scope=row>X20</th><td>X20      </td><td> 1.805290</td></tr>\n",
       "\t<tr><th scope=row>X45</th><td>X45      </td><td> 1.798545</td></tr>\n",
       "\t<tr><th scope=row>X14</th><td>X14      </td><td> 1.779717</td></tr>\n",
       "\t<tr><th scope=row>X23</th><td>X23      </td><td> 1.764803</td></tr>\n",
       "\t<tr><th scope=row>X40</th><td>X40      </td><td> 1.704617</td></tr>\n",
       "\t<tr><th scope=row>X73</th><td>X73      </td><td> 1.539889</td></tr>\n",
       "\t<tr><th scope=row>X75</th><td>X75      </td><td> 1.515656</td></tr>\n",
       "\t<tr><th scope=row>X78</th><td>X78      </td><td> 1.493643</td></tr>\n",
       "\t<tr><th scope=row>X66</th><td>X66      </td><td> 1.426494</td></tr>\n",
       "\t<tr><th scope=row>X42</th><td>X42      </td><td> 1.305018</td></tr>\n",
       "\t<tr><th scope=row>X34</th><td>X34      </td><td> 1.295909</td></tr>\n",
       "\t<tr><th scope=row>X68</th><td>X68      </td><td> 1.199459</td></tr>\n",
       "\t<tr><th scope=row>X46</th><td>X46      </td><td> 1.136107</td></tr>\n",
       "\t<tr><th scope=row>X65</th><td>X65      </td><td> 1.115316</td></tr>\n",
       "\t<tr><th scope=row>X86</th><td>X86      </td><td> 1.101614</td></tr>\n",
       "\t<tr><th scope=row>X69</th><td>X69      </td><td> 1.088810</td></tr>\n",
       "\t<tr><th scope=row>X44</th><td>X44      </td><td> 1.071831</td></tr>\n",
       "\t<tr><th scope=row>X82</th><td>X82      </td><td> 1.049495</td></tr>\n",
       "\t<tr><th scope=row>...</th><td>...</td><td>...</td></tr>\n",
       "\t<tr><th scope=row>X28</th><td>X28 </td><td>0   </td></tr>\n",
       "\t<tr><th scope=row>X29</th><td>X29 </td><td>0   </td></tr>\n",
       "\t<tr><th scope=row>X30</th><td>X30 </td><td>0   </td></tr>\n",
       "\t<tr><th scope=row>X31</th><td>X31 </td><td>0   </td></tr>\n",
       "\t<tr><th scope=row>X33</th><td>X33 </td><td>0   </td></tr>\n",
       "\t<tr><th scope=row>X35</th><td>X35 </td><td>0   </td></tr>\n",
       "\t<tr><th scope=row>X37</th><td>X37 </td><td>0   </td></tr>\n",
       "\t<tr><th scope=row>X51</th><td>X51 </td><td>0   </td></tr>\n",
       "\t<tr><th scope=row>X53</th><td>X53 </td><td>0   </td></tr>\n",
       "\t<tr><th scope=row>X55</th><td>X55 </td><td>0   </td></tr>\n",
       "\t<tr><th scope=row>X56</th><td>X56 </td><td>0   </td></tr>\n",
       "\t<tr><th scope=row>X59</th><td>X59 </td><td>0   </td></tr>\n",
       "\t<tr><th scope=row>X60</th><td>X60 </td><td>0   </td></tr>\n",
       "\t<tr><th scope=row>X62</th><td>X62 </td><td>0   </td></tr>\n",
       "\t<tr><th scope=row>X63</th><td>X63 </td><td>0   </td></tr>\n",
       "\t<tr><th scope=row>X70</th><td>X70 </td><td>0   </td></tr>\n",
       "\t<tr><th scope=row>X80</th><td>X80 </td><td>0   </td></tr>\n",
       "\t<tr><th scope=row>X81</th><td>X81 </td><td>0   </td></tr>\n",
       "\t<tr><th scope=row>X83</th><td>X83 </td><td>0   </td></tr>\n",
       "\t<tr><th scope=row>X85</th><td>X85 </td><td>0   </td></tr>\n",
       "\t<tr><th scope=row>X87</th><td>X87 </td><td>0   </td></tr>\n",
       "\t<tr><th scope=row>X91</th><td>X91 </td><td>0   </td></tr>\n",
       "\t<tr><th scope=row>X93</th><td>X93 </td><td>0   </td></tr>\n",
       "\t<tr><th scope=row>X94</th><td>X94 </td><td>0   </td></tr>\n",
       "\t<tr><th scope=row>X95</th><td>X95 </td><td>0   </td></tr>\n",
       "\t<tr><th scope=row>X96</th><td>X96 </td><td>0   </td></tr>\n",
       "\t<tr><th scope=row>X97</th><td>X97 </td><td>0   </td></tr>\n",
       "\t<tr><th scope=row>X98</th><td>X98 </td><td>0   </td></tr>\n",
       "\t<tr><th scope=row>X99</th><td>X99 </td><td>0   </td></tr>\n",
       "\t<tr><th scope=row>X100</th><td>X100</td><td>0   </td></tr>\n",
       "</tbody>\n",
       "</table>\n"
      ],
      "text/latex": [
       "\\begin{tabular}{r|ll}\n",
       "  & var & rel.inf\\\\\n",
       "\\hline\n",
       "\tX1 & X1        & 19.615344\\\\\n",
       "\tX36 & X36       &  5.168676\\\\\n",
       "\tX38 & X38       &  4.630071\\\\\n",
       "\tX21 & X21       &  3.941656\\\\\n",
       "\tX19 & X19       &  3.781811\\\\\n",
       "\tX48 & X48       &  3.529660\\\\\n",
       "\tX77 & X77       &  2.908769\\\\\n",
       "\tX72 & X72       &  2.637949\\\\\n",
       "\tX39 & X39       &  2.406402\\\\\n",
       "\tX11 & X11       &  2.347055\\\\\n",
       "\tX13 & X13       &  2.221221\\\\\n",
       "\tX47 & X47       &  1.857345\\\\\n",
       "\tX20 & X20       &  1.805290\\\\\n",
       "\tX45 & X45       &  1.798545\\\\\n",
       "\tX14 & X14       &  1.779717\\\\\n",
       "\tX23 & X23       &  1.764803\\\\\n",
       "\tX40 & X40       &  1.704617\\\\\n",
       "\tX73 & X73       &  1.539889\\\\\n",
       "\tX75 & X75       &  1.515656\\\\\n",
       "\tX78 & X78       &  1.493643\\\\\n",
       "\tX66 & X66       &  1.426494\\\\\n",
       "\tX42 & X42       &  1.305018\\\\\n",
       "\tX34 & X34       &  1.295909\\\\\n",
       "\tX68 & X68       &  1.199459\\\\\n",
       "\tX46 & X46       &  1.136107\\\\\n",
       "\tX65 & X65       &  1.115316\\\\\n",
       "\tX86 & X86       &  1.101614\\\\\n",
       "\tX69 & X69       &  1.088810\\\\\n",
       "\tX44 & X44       &  1.071831\\\\\n",
       "\tX82 & X82       &  1.049495\\\\\n",
       "\t... & ... & ...\\\\\n",
       "\tX28 & X28  & 0   \\\\\n",
       "\tX29 & X29  & 0   \\\\\n",
       "\tX30 & X30  & 0   \\\\\n",
       "\tX31 & X31  & 0   \\\\\n",
       "\tX33 & X33  & 0   \\\\\n",
       "\tX35 & X35  & 0   \\\\\n",
       "\tX37 & X37  & 0   \\\\\n",
       "\tX51 & X51  & 0   \\\\\n",
       "\tX53 & X53  & 0   \\\\\n",
       "\tX55 & X55  & 0   \\\\\n",
       "\tX56 & X56  & 0   \\\\\n",
       "\tX59 & X59  & 0   \\\\\n",
       "\tX60 & X60  & 0   \\\\\n",
       "\tX62 & X62  & 0   \\\\\n",
       "\tX63 & X63  & 0   \\\\\n",
       "\tX70 & X70  & 0   \\\\\n",
       "\tX80 & X80  & 0   \\\\\n",
       "\tX81 & X81  & 0   \\\\\n",
       "\tX83 & X83  & 0   \\\\\n",
       "\tX85 & X85  & 0   \\\\\n",
       "\tX87 & X87  & 0   \\\\\n",
       "\tX91 & X91  & 0   \\\\\n",
       "\tX93 & X93  & 0   \\\\\n",
       "\tX94 & X94  & 0   \\\\\n",
       "\tX95 & X95  & 0   \\\\\n",
       "\tX96 & X96  & 0   \\\\\n",
       "\tX97 & X97  & 0   \\\\\n",
       "\tX98 & X98  & 0   \\\\\n",
       "\tX99 & X99  & 0   \\\\\n",
       "\tX100 & X100 & 0   \\\\\n",
       "\\end{tabular}\n"
      ],
      "text/markdown": [
       "\n",
       "| <!--/--> | var | rel.inf |\n",
       "|---|---|---|\n",
       "| X1 | X1        | 19.615344 |\n",
       "| X36 | X36       |  5.168676 |\n",
       "| X38 | X38       |  4.630071 |\n",
       "| X21 | X21       |  3.941656 |\n",
       "| X19 | X19       |  3.781811 |\n",
       "| X48 | X48       |  3.529660 |\n",
       "| X77 | X77       |  2.908769 |\n",
       "| X72 | X72       |  2.637949 |\n",
       "| X39 | X39       |  2.406402 |\n",
       "| X11 | X11       |  2.347055 |\n",
       "| X13 | X13       |  2.221221 |\n",
       "| X47 | X47       |  1.857345 |\n",
       "| X20 | X20       |  1.805290 |\n",
       "| X45 | X45       |  1.798545 |\n",
       "| X14 | X14       |  1.779717 |\n",
       "| X23 | X23       |  1.764803 |\n",
       "| X40 | X40       |  1.704617 |\n",
       "| X73 | X73       |  1.539889 |\n",
       "| X75 | X75       |  1.515656 |\n",
       "| X78 | X78       |  1.493643 |\n",
       "| X66 | X66       |  1.426494 |\n",
       "| X42 | X42       |  1.305018 |\n",
       "| X34 | X34       |  1.295909 |\n",
       "| X68 | X68       |  1.199459 |\n",
       "| X46 | X46       |  1.136107 |\n",
       "| X65 | X65       |  1.115316 |\n",
       "| X86 | X86       |  1.101614 |\n",
       "| X69 | X69       |  1.088810 |\n",
       "| X44 | X44       |  1.071831 |\n",
       "| X82 | X82       |  1.049495 |\n",
       "| ... | ... | ... |\n",
       "| X28 | X28  | 0    |\n",
       "| X29 | X29  | 0    |\n",
       "| X30 | X30  | 0    |\n",
       "| X31 | X31  | 0    |\n",
       "| X33 | X33  | 0    |\n",
       "| X35 | X35  | 0    |\n",
       "| X37 | X37  | 0    |\n",
       "| X51 | X51  | 0    |\n",
       "| X53 | X53  | 0    |\n",
       "| X55 | X55  | 0    |\n",
       "| X56 | X56  | 0    |\n",
       "| X59 | X59  | 0    |\n",
       "| X60 | X60  | 0    |\n",
       "| X62 | X62  | 0    |\n",
       "| X63 | X63  | 0    |\n",
       "| X70 | X70  | 0    |\n",
       "| X80 | X80  | 0    |\n",
       "| X81 | X81  | 0    |\n",
       "| X83 | X83  | 0    |\n",
       "| X85 | X85  | 0    |\n",
       "| X87 | X87  | 0    |\n",
       "| X91 | X91  | 0    |\n",
       "| X93 | X93  | 0    |\n",
       "| X94 | X94  | 0    |\n",
       "| X95 | X95  | 0    |\n",
       "| X96 | X96  | 0    |\n",
       "| X97 | X97  | 0    |\n",
       "| X98 | X98  | 0    |\n",
       "| X99 | X99  | 0    |\n",
       "| X100 | X100 | 0    |\n",
       "\n"
      ],
      "text/plain": [
       "     var  rel.inf  \n",
       "X1   X1   19.615344\n",
       "X36  X36   5.168676\n",
       "X38  X38   4.630071\n",
       "X21  X21   3.941656\n",
       "X19  X19   3.781811\n",
       "X48  X48   3.529660\n",
       "X77  X77   2.908769\n",
       "X72  X72   2.637949\n",
       "X39  X39   2.406402\n",
       "X11  X11   2.347055\n",
       "X13  X13   2.221221\n",
       "X47  X47   1.857345\n",
       "X20  X20   1.805290\n",
       "X45  X45   1.798545\n",
       "X14  X14   1.779717\n",
       "X23  X23   1.764803\n",
       "X40  X40   1.704617\n",
       "X73  X73   1.539889\n",
       "X75  X75   1.515656\n",
       "X78  X78   1.493643\n",
       "X66  X66   1.426494\n",
       "X42  X42   1.305018\n",
       "X34  X34   1.295909\n",
       "X68  X68   1.199459\n",
       "X46  X46   1.136107\n",
       "X65  X65   1.115316\n",
       "X86  X86   1.101614\n",
       "X69  X69   1.088810\n",
       "X44  X44   1.071831\n",
       "X82  X82   1.049495\n",
       "...  ...  ...      \n",
       "X28  X28  0        \n",
       "X29  X29  0        \n",
       "X30  X30  0        \n",
       "X31  X31  0        \n",
       "X33  X33  0        \n",
       "X35  X35  0        \n",
       "X37  X37  0        \n",
       "X51  X51  0        \n",
       "X53  X53  0        \n",
       "X55  X55  0        \n",
       "X56  X56  0        \n",
       "X59  X59  0        \n",
       "X60  X60  0        \n",
       "X62  X62  0        \n",
       "X63  X63  0        \n",
       "X70  X70  0        \n",
       "X80  X80  0        \n",
       "X81  X81  0        \n",
       "X83  X83  0        \n",
       "X85  X85  0        \n",
       "X87  X87  0        \n",
       "X91  X91  0        \n",
       "X93  X93  0        \n",
       "X94  X94  0        \n",
       "X95  X95  0        \n",
       "X96  X96  0        \n",
       "X97  X97  0        \n",
       "X98  X98  0        \n",
       "X99  X99  0        \n",
       "X100 X100 0        "
      ]
     },
     "metadata": {},
     "output_type": "display_data"
    },
    {
     "data": {
      "image/png": "[encoded data removed]",
      "text/plain": [
       "plot without title"
      ]
     },
     "metadata": {},
     "output_type": "display_data"
    }
   ],
   "source": [
    "set.seed(123)\n",
    "gbm_tree<-gbm(Class~.,data = Dataset_2_train,distribution=\"multinomial\")\n",
    "summary(gbm_tree)"
   ]
  },
  {
   "cell_type": "code",
   "execution_count": 83,
   "metadata": {},
   "outputs": [
    {
     "name": "stdout",
     "output_type": "stream",
     "text": [
      "[1] \"train error:\"      \"0.314977973568282\"\n"
     ]
    }
   ],
   "source": [
    "p<-as.data.frame(predict(gbm_tree,type = \"response\",n.trees = 100))\n",
    "predictions<-as.data.frame(matrix(nrow = nrow(Dataset_2_train),ncol = 1))\n",
    "for (i in 1:nrow(predictions)){\n",
    "  if (p[i,1]>p[i,2]) {predictions[i,1]=0\n",
    "  }\n",
    "  else {predictions[i,1]=1\n",
    "  }\n",
    "}\n",
    "tab<-table(predictions[,1],Dataset_2_train[,101])\n",
    "train_error<-1-sum(diag(tab)/sum(tab))\n",
    "print(c(\"train error:\",train_error))"
   ]
  },
  {
   "cell_type": "code",
   "execution_count": 84,
   "metadata": {},
   "outputs": [
    {
     "name": "stdout",
     "output_type": "stream",
     "text": [
      "[1] \"test error:\"       \"0.407894736842105\"\n"
     ]
    }
   ],
   "source": [
    "p1<-as.data.frame(predict(gbm_tree,Dataset_2_test, type = \"response\",n.trees = 100))\n",
    "predictions<-as.data.frame(matrix(nrow = nrow(Dataset_2_test),ncol = 1))\n",
    "for (i in 1:nrow(predictions)){\n",
    "  if (p1[i,1]>p1[i,2]) {predictions[i,1]=0\n",
    "  }\n",
    "  else {predictions[i,1]=1\n",
    "  }\n",
    "}\n",
    "tab<-table(predictions[,1],Dataset_2_test[,101])\n",
    "test_error<-1-sum(diag(tab)/sum(tab))\n",
    "print(c(\"test error:\",test_error))"
   ]
  },
  {
   "cell_type": "markdown",
   "metadata": {},
   "source": [
    "- Test error is found as *0.4079* in this approach.\n",
    "- In the penalized regression with Lasso penalty, test error is *0.2566*.\n",
    "- In the decision tree with the best model, test error is *0.3618* \n",
    "- In the random forest with the best model, test error is *0.3684*.\n",
    "\n",
    "\n",
    "- Thus considering the error rates, **the penalized regression with Lasso penalty performs better than other approaches.**"
   ]
  }
 ],
 "metadata": {
  "kernelspec": {
   "display_name": "R",
   "language": "R",
   "name": "ir"
  },
  "language_info": {
   "codemirror_mode": "r",
   "file_extension": ".r",
   "mimetype": "text/x-r-source",
   "name": "R",
   "pygments_lexer": "r",
   "version": "3.6.1"
  }
 },
 "nbformat": 4,
 "nbformat_minor": 4
}
