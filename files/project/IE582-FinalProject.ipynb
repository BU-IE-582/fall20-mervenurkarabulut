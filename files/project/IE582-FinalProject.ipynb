{
 "cells": [
  {
   "cell_type": "code",
   "execution_count": null,
   "metadata": {},
   "outputs": [],
   "source": [
    "setwd(\"C:/IE582\")\n",
    "train = read.csv(\"IE582_Fall20_ProjectTrain.csv\",sep = \",\", dec = \".\")\n",
    "test = read.csv(\"IE582_Fall20_ProjectTest.csv\",sep = \",\", dec = \".\")\n",
    "train$y = as.factor(train$y)"
   ]
  },
  {
   "cell_type": "code",
   "execution_count": null,
   "metadata": {},
   "outputs": [],
   "source": [
    "library(randomForest)\n",
    "library(mlbench)\n",
    "library(caret)\n",
    "library(ROSE)"
   ]
  },
  {
   "cell_type": "code",
   "execution_count": null,
   "metadata": {},
   "outputs": [],
   "source": [
    "library(DMwR)\n",
    "seed <- 7\n",
    "set.seed(seed)\n",
    "smoted_data <- SMOTE(y~., train, perc.over=100,perc.under = 200,k=1)"
   ]
  },
  {
   "cell_type": "code",
   "execution_count": null,
   "metadata": {},
   "outputs": [],
   "source": [
    "table(smoted_data$y)"
   ]
  },
  {
   "cell_type": "code",
   "execution_count": null,
   "metadata": {},
   "outputs": [],
   "source": [
    "x <- smoted_data[,1:60]\n",
    "y <- smoted_data[,61]\n",
    "metric <- \"Accuracy\"\n",
    "mtry <- sqrt(ncol(x))\n",
    "# Algorithm Tune (tuneRF)\n",
    "set.seed(42)\n",
    "bestmtry <- tuneRF(x, y, stepFactor=1.5, improve=1e-5, ntree=1000)\n",
    "print(bestmtry)"
   ]
  },
  {
   "cell_type": "code",
   "execution_count": null,
   "metadata": {},
   "outputs": [],
   "source": [
    "set.seed(1192)\n",
    "control <- trainControl(method='repeatedcv',number=10,repeats=5,classProbs=TRUE,summaryFunction = twoClassSummary)\n",
    "x <- smoted_data[,1:60]\n",
    "y <- smoted_data[,61]\n",
    "tunegrid <- expand.grid(.mtry=15)\n",
    "rf_default <- train(y~.,data=smoted_data,method='rf',metric=\"ROC\",tuneGrid=tunegrid,trControl=control)\n",
    "print(rf_default)\n",
    "\n",
    "predictions<-predict(rf_default,test, type=\"prob\")"
   ]
  },
  {
   "cell_type": "code",
   "execution_count": null,
   "metadata": {},
   "outputs": [],
   "source": [
    "# install the required packages first\n",
    "require(jsonlite)\n",
    "require(httr)\n",
    "require(data.table)\n",
    "\n",
    "get_token <- function(username, password, url_site){\n",
    "    \n",
    "    post_body = list(username=username,password=password)\n",
    "    post_url_string = paste0(url_site,'/token/')\n",
    "    result = POST(post_url_string, body = post_body)\n",
    "\n",
    "    # error handling (wrong credentials)\n",
    "    if(result$status_code==400){\n",
    "        print('Check your credentials')\n",
    "        return(0)\n",
    "    }\n",
    "    else if (result$status_code==201){\n",
    "        output = content(result)\n",
    "        token = output$key\n",
    "    }\n",
    "\n",
    "    return(token)\n",
    "}\n",
    "\n",
    "\n",
    "\n",
    "send_submission <- function(predictions, token, url_site, submit_now=F){\n",
    "    \n",
    "    format_check=check_format(predictions)\n",
    "    if(!format_check){\n",
    "        return(FALSE)\n",
    "    }\n",
    "    \n",
    "    post_string=\"list(\"\n",
    "    for(i in 1:length(predictions)){\n",
    "        if(i<length(predictions)){\n",
    "            post_string=sprintf(\"%s%s,\",post_string,predictions[i])\n",
    "        } else {\n",
    "            post_string=sprintf(\"%s%s)\",post_string,predictions[i])\n",
    "        }\n",
    "    }\n",
    "    \n",
    "    submission = eval(parse(text=post_string))\n",
    "    json_body = jsonlite::toJSON(submission, auto_unbox = TRUE)\n",
    "    submission=list(submission=json_body)\n",
    "    print(submission)\n",
    "\n",
    "    if(!submit_now){\n",
    "        print(\"You did not submit.\")\n",
    "        return(FALSE)      \n",
    "    }\n",
    "    \n",
    "\n",
    "    header = add_headers(c(Authorization=paste('Token',token,sep=' ')))\n",
    "    post_url_string = paste0(url_site,'/submission/')\n",
    "    result = POST(post_url_string, header, body=submission)\n",
    "    \n",
    "    if (result$status_code==201){\n",
    "        print(\"Successfully submitted. Below you can see the details of your submission\")\n",
    "    } else {\n",
    "        print(\"Could not submit. Please check the error message below, contact the assistant if needed.\")\n",
    "    }\n",
    "    \n",
    "    print(content(result))\n",
    "    \n",
    "}\n",
    "\n",
    "check_format <- function(predictions){\n",
    "    \n",
    "    if(all(is.numeric(predictions)) & all(predictions<=1)){\n",
    "        print(\"Format OK\")\n",
    "        return(TRUE)\n",
    "    } else {\n",
    "        print(\"Wrong format\")\n",
    "        return(FALSE)\n",
    "    }\n",
    "    \n",
    "}"
   ]
  },
  {
   "cell_type": "code",
   "execution_count": null,
   "metadata": {},
   "outputs": [],
   "source": [
    "# this part is main code\n",
    "subm_url = 'http://46.101.121.83'\n",
    "\n",
    "u_name = \"Datatata\"\n",
    "p_word = \"hT7HEBh1hxztje2f\"\n",
    "submit_now = TRUE\n",
    "\n",
    "username = u_name\n",
    "password = p_word\n",
    "\n",
    "token = get_token(username=u_name, password=p_word, url=subm_url)\n",
    "# this part is where you need to provide your prediction method/function or set of R codes\n",
    "p=predictions[,2]\n",
    "send_submission(p, token, url=subm_url, submit_now= submit_now)"
   ]
  },
  {
   "cell_type": "code",
   "execution_count": null,
   "metadata": {},
   "outputs": [],
   "source": []
  }
 ],
 "metadata": {
  "kernelspec": {
   "display_name": "R",
   "language": "R",
   "name": "ir"
  },
  "language_info": {
   "codemirror_mode": "r",
   "file_extension": ".r",
   "mimetype": "text/x-r-source",
   "name": "R",
   "pygments_lexer": "r",
   "version": "3.6.1"
  }
 },
 "nbformat": 4,
 "nbformat_minor": 4
}
